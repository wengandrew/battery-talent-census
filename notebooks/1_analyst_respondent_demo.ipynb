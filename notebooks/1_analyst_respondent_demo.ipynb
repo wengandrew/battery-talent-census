{
 "cells": [
  {
   "cell_type": "markdown",
   "metadata": {},
   "source": [
    "# 1. Demonstrate basic usage of `Analyst` and `Respondent` classes\n",
    "\n",
    "December 21, 2024\n",
    "\n",
    "This notebook explores the basic usage of two core classes:\n",
    "\n",
    "- `Analyst`: handles analysis tasks including computation and stats\n",
    "- `Respondent`: handles data storage for each individual census respondent"
   ]
  },
  {
   "cell_type": "markdown",
   "metadata": {},
   "source": [
    "## Set working directory, import classes"
   ]
  },
  {
   "cell_type": "code",
   "execution_count": 1,
   "metadata": {},
   "outputs": [],
   "source": [
    "import os\n",
    "\n",
    "# Set working directory to root of project\n",
    "current_folder = os.path.basename(os.getcwd())\n",
    "if current_folder == 'notebooks':\n",
    "    root_path = os.path.dirname(os.path.abspath(''))\n",
    "    os.chdir(root_path)\n",
    "\n",
    "# print to check\n",
    "# print(f'Directory set to: {os.getcwd()}')\n",
    "\n",
    "from pprint import pprint\n",
    "from src.respondent import Respondent\n",
    "from src.analyst import Analyst\n",
    "import src.utils as utils\n",
    "\n",
    "from IPython import get_ipython\n",
    "\n",
    "# Automatically reload all modules every time a line of code is executed\n",
    "get_ipython().run_line_magic('load_ext', 'autoreload')\n",
    "get_ipython().run_line_magic('autoreload', '2')\n"
   ]
  },
  {
   "cell_type": "markdown",
   "metadata": {},
   "source": [
    "## Using `Analyst`"
   ]
  },
  {
   "cell_type": "code",
   "execution_count": 2,
   "metadata": {},
   "outputs": [],
   "source": [
    "# Initialize the Analyst\n",
    "analyst = Analyst()\n",
    "analyst.load_data()\n",
    "analyst.build_respondents_list()"
   ]
  },
  {
   "cell_type": "code",
   "execution_count": 3,
   "metadata": {},
   "outputs": [
    {
     "name": "stdout",
     "output_type": "stream",
     "text": [
      "Total number of respondents: 1008\n"
     ]
    }
   ],
   "source": [
    "# Each respondent is an instance of the Respondent class\n",
    "resp_all = analyst.filter_respondents_on()\n",
    "\n",
    "# Count the number of respondents\n",
    "print(f\"Total number of respondents: {len(resp_all)}\")"
   ]
  },
  {
   "cell_type": "code",
   "execution_count": 20,
   "metadata": {},
   "outputs": [
    {
     "name": "stdout",
     "output_type": "stream",
     "text": [
      "Filtered of respondents: 63\n"
     ]
    }
   ],
   "source": [
    "# Filter for working status, country, and gender\n",
    "resp_filtered = analyst.filter_respondents_on(is_working=True,is_completed_all_questions=True,country='United States',gender='Female')\n",
    "\n",
    "# Count the number of respondents\n",
    "print(f\"Filtered of respondents: {len(resp_filtered)}\")"
   ]
  },
  {
   "cell_type": "code",
   "execution_count": 5,
   "metadata": {},
   "outputs": [
    {
     "name": "stdout",
     "output_type": "stream",
     "text": [
      "Filtered of respondents: 665\n"
     ]
    }
   ],
   "source": [
    "# Filter for people who answered company questions - working/previously working\n",
    "resp_work = analyst.filter_for_working()\n",
    "\n",
    "# Count the number of respondents\n",
    "print(f\"Filtered of respondents: {len(resp_work)}\")"
   ]
  },
  {
   "cell_type": "code",
   "execution_count": 6,
   "metadata": {},
   "outputs": [
    {
     "name": "stdout",
     "output_type": "stream",
     "text": [
      "dict_keys(['num_total', 'num_working', 'num_working_and_completed_all_questions', 'num_unemployed', 'num_unemployed_and_completed_all_questions', 'num_student', 'num_student_and_completed_all_questions', 'mins_working_median', 'mins_working_completed_median', 'mins_student_median', 'mins_student_completed_median', 'mins_unemployed_median', 'mins_unemployed_completed_median', 'mins_working_list', 'mins_working_completed_list', 'mins_student_list', 'mins_student_completed_list', 'mins_unemployed_list', 'mins_unemployed_completed_list', 'response_by_time_datetime', 'response_by_time_num'])\n",
      "mins_working_median: 4.258333333333333\n",
      "mins_working_completed_median: 14.4\n",
      "mins_student_median: 5.6\n",
      "mins_student_completed_median: 7.75\n",
      "mins_unemployed_median: 3.7666666666666666\n",
      "mins_unemployed_completed_median: 14.45\n"
     ]
    }
   ],
   "source": [
    "# Summarize the data\n",
    "res_stats = analyst.summarize_stats()\n",
    "print(res_stats.keys())\n",
    "\n",
    "# Print key and value of each item in the dictionary that contains 'median'\n",
    "for key, value in res_stats.items():\n",
    "    if 'median' in key:\n",
    "        print(f\"{key}: {value}\")"
   ]
  },
  {
   "cell_type": "markdown",
   "metadata": {},
   "source": [
    "## Using `Respondent`"
   ]
  },
  {
   "cell_type": "code",
   "execution_count": 13,
   "metadata": {},
   "outputs": [
    {
     "data": {
      "text/plain": [
       "Token:     fwg1ksl5ktlvskt6fwg1kuhx056997gi\n",
       "Submitted: 2024-10-31 08:55:26\n",
       "Duration:  9.65 minutes\n",
       "Status:    Student"
      ]
     },
     "execution_count": 13,
     "metadata": {},
     "output_type": "execute_result"
    }
   ],
   "source": [
    "# Selecting a random respondent from the all respondents list\n",
    "resp_test = resp_all[617]\n",
    "\n",
    "# View summary as set by `__repr__`\n",
    "resp_test"
   ]
  },
  {
   "cell_type": "code",
   "execution_count": 14,
   "metadata": {},
   "outputs": [
    {
     "data": {
      "text/plain": [
       "{'sentiment': {'keys': [\"I feel good about what I'm working on\",\n",
       "   'I feel good about my career path',\n",
       "   'I feel good about my work-life balance',\n",
       "   'I feel valued by those around me',\n",
       "   'I see opportunities for career growth'],\n",
       "  'values': array([3., 2., 3., 3., 3.])},\n",
       " 'skills_demand': 'Previous hands-on experience (especially in manufacturing); network; scientific/technical rigour',\n",
       " 'skills_value_chain': ['Recycling',\n",
       "  'Cell production',\n",
       "  'Component/precursor production'],\n",
       " 'education': 'Doctorate',\n",
       " 'degree': nan,\n",
       " 'country': 'United Kingdom',\n",
       " 'zip': 'Ox2 6du',\n",
       " 'state': None,\n",
       " 'income': np.float64(43500.0),\n",
       " 'hours_worked': np.float64(38.0),\n",
       " 'age': np.float64(35.0),\n",
       " 'ethnicity': ['White'],\n",
       " 'gender': 'Male',\n",
       " 'citizenship': 'Non-citizen (Other)',\n",
       " 'military_status': 'No',\n",
       " 'employment_status': \"I'm in school or in training (e.g., a student or postdoc)\",\n",
       " 'to_complete_industry_questions': nan,\n",
       " 'to_complete_student_questions': True,\n",
       " 'to_complete_unemployed_questions': nan,\n",
       " 'why_leave': nan}"
      ]
     },
     "execution_count": 14,
     "metadata": {},
     "output_type": "execute_result"
    }
   ],
   "source": [
    "# Woo it's a student! Let's access census data\n",
    "resp_test.census"
   ]
  },
  {
   "cell_type": "code",
   "execution_count": null,
   "metadata": {},
   "outputs": [
    {
     "data": {
      "text/plain": [
       "{'student_sentiment': {'keys': ['After graduating, I know what role(s) to apply to',\n",
       "   'After graduating, I will find a job',\n",
       "   'By the time I graduate, I will have learned the skills needed to find a job',\n",
       "   'I am optimistic about the future of the battery industry'],\n",
       "  'values': array([3., 5., 4., 4.])},\n",
       " 'ideal_job_title': 'Principal scientist',\n",
       " 'ideal_value_chain': ['Component/precursor production',\n",
       "  'Cell production',\n",
       "  'Consulting'],\n",
       " 'ideal_job_aspects': ['Competitive salary and benefits',\n",
       "  'Challenge and innovation',\n",
       "  'Work-life balance',\n",
       "  'Autonomy and independence',\n",
       "  'Learning and skills development',\n",
       "  'Career growth opportunities',\n",
       "  'Desirable work location',\n",
       "  'Sustainability and impact',\n",
       "  'Supportive team and environment'],\n",
       " 'ideal_salary': np.float64(70000.0),\n",
       " 'num_internships': '5+',\n",
       " 'internship_value_chain': [],\n",
       " 'internship_role': ['Engineering and design',\n",
       "  'Research and development',\n",
       "  'Managing projects or programs',\n",
       "  'Legal'],\n",
       " 'internship_top_skills': 'Scientific integrity, data analysis, experiments planning',\n",
       " 'internship_skills_wish_learned': 'Exposure to external stakeholders',\n",
       " 'internship_skills_unprepared': nan,\n",
       " 'internship_hourly_pay': np.float64(nan),\n",
       " 'internship_hours_per_week': np.float64(40.0)}"
      ]
     },
     "execution_count": 16,
     "metadata": {},
     "output_type": "execute_result"
    }
   ],
   "source": [
    "# And student data\n",
    "resp_test.student"
   ]
  },
  {
   "cell_type": "code",
   "execution_count": 17,
   "metadata": {},
   "outputs": [
    {
     "data": {
      "text/plain": [
       "{'company_satisfaction': {'keys': ['I am satisfied with my compensation',\n",
       "   'I am being underpaid compared to similar roles',\n",
       "   'I am satisfied with the raises and/or bonuses I have been receiving'],\n",
       "  'values': array([nan, nan, nan])},\n",
       " 'salary_base': np.float64(nan),\n",
       " 'salary_comp_types': [],\n",
       " 'salary_num_raises': nan,\n",
       " 'salary_num_bonuses': nan,\n",
       " 'company_years_with': np.float64(nan),\n",
       " 'company_value_chain': [],\n",
       " 'company_stage': nan,\n",
       " 'company_country': nan,\n",
       " 'company_state': nan,\n",
       " 'company_days_in_office': np.float64(nan),\n",
       " 'company_headcount': nan,\n",
       " 'company_team_count': nan,\n",
       " 'role_title': nan,\n",
       " 'role_role': [],\n",
       " 'role_level': nan,\n",
       " 'role_why_choose': [],\n",
       " 'role_prev_industries': nan,\n",
       " 'role_prev_role': nan,\n",
       " 'skills_preparedness': {'keys': ['After working for 1 week?',\n",
       "   'After working for 1 month?',\n",
       "   'After working for 3 months?',\n",
       "   'Last week?'],\n",
       "  'values': array([nan, nan, nan, nan])},\n",
       " 'skills_how_was_trained': [],\n",
       " 'skills_how_to_improve': [],\n",
       " 'skills_num_internships': nan,\n",
       " 'opinion_top_skills': nan,\n",
       " 'opinion_hardest_to_fill': nan,\n",
       " 'opinion_barriers': nan,\n",
       " 'retention_num_employer_changes': np.float64(nan),\n",
       " 'retention_is_on_market': nan,\n",
       " 'retention_sentiment': {'keys': ['My company has a good reputation in the industry',\n",
       "   'I want to stay with my company for at least 12 more months',\n",
       "   'I am satisfied with my current job stability',\n",
       "   'I am confident in my ability to find my next job in the industry'],\n",
       "  'values': array([nan, nan, nan, nan])},\n",
       " 'retention_factors': [],\n",
       " 'retention_misc': nan,\n",
       " 'benefits_priorities': {'keys': ['Mental health support',\n",
       "   'Work-life balance initiatives',\n",
       "   'Financial wellness programs',\n",
       "   'Career development opportunities'],\n",
       "  'values': array([nan, nan, nan, nan])},\n",
       " 'benefits_entitlements': [],\n",
       " 'benefits_parental_leave_weeks': np.float64(nan),\n",
       " 'benefits_pto_weeks': np.float64(nan),\n",
       " 'benefits_sick_leave_days': np.float64(nan),\n",
       " 'benefits_unique': nan}"
      ]
     },
     "execution_count": 17,
     "metadata": {},
     "output_type": "execute_result"
    }
   ],
   "source": [
    "# if we try to access company data, we get an nan/empty values\n",
    "resp_test.company"
   ]
  },
  {
   "cell_type": "code",
   "execution_count": 21,
   "metadata": {},
   "outputs": [
    {
     "data": {
      "text/plain": [
       "Token:     5cq52oj70v25tzghsxp6d5cq52ola5s1\n",
       "Submitted: 2024-10-04 20:45:35\n",
       "Duration:  17.63 minutes\n",
       "Status:    Working"
      ]
     },
     "execution_count": 21,
     "metadata": {},
     "output_type": "execute_result"
    }
   ],
   "source": [
    "# Let's select another random respondent\n",
    "resp_test = resp_filtered[10]\n",
    "resp_test"
   ]
  },
  {
   "cell_type": "code",
   "execution_count": 22,
   "metadata": {},
   "outputs": [
    {
     "data": {
      "text/plain": [
       "{'company_satisfaction': {'keys': ['I am satisfied with my compensation',\n",
       "   'I am being underpaid compared to similar roles',\n",
       "   'I am satisfied with the raises and/or bonuses I have been receiving'],\n",
       "  'values': array([5., 1., 5.])},\n",
       " 'salary_base': np.float64(150000.0),\n",
       " 'salary_comp_types': ['Bonuses (based on company performance)',\n",
       "  'Education or tuition reimbursement',\n",
       "  'Health and wellness stipends',\n",
       "  'Equity (stock',\n",
       "  'options',\n",
       "  'etc.)'],\n",
       " 'salary_num_raises': '2',\n",
       " 'salary_num_bonuses': '1',\n",
       " 'company_years_with': np.float64(6.0),\n",
       " 'company_value_chain': ['Consulting'],\n",
       " 'company_stage': 'Mid-sized (stable growth)',\n",
       " 'company_country': 'United States',\n",
       " 'company_state': 'Maryland',\n",
       " 'company_days_in_office': np.float64(0.0),\n",
       " 'company_headcount': '51-100',\n",
       " 'company_team_count': '1-10',\n",
       " 'role_title': 'Energy market specialist',\n",
       " 'role_role': ['market research'],\n",
       " 'role_level': 'Senior',\n",
       " 'role_why_choose': ['Hybrid/remote work',\n",
       "  'Supportive team and environment',\n",
       "  'Female owned business'],\n",
       " 'role_prev_industries': 'Yes, in a different role',\n",
       " 'role_prev_role': 'Automotive supplier analyst',\n",
       " 'skills_preparedness': {'keys': ['After working for 1 week?',\n",
       "   'After working for 1 month?',\n",
       "   'After working for 3 months?',\n",
       "   'Last week?'],\n",
       "  'values': array([4., 5., 5., 5.])},\n",
       " 'skills_how_was_trained': ['Learning on the job', 'Peer mentors'],\n",
       " 'skills_how_to_improve': ['more structure inhouse training program'],\n",
       " 'skills_num_internships': '5+',\n",
       " 'opinion_top_skills': 'research 1, networking 2, languages 3',\n",
       " 'opinion_hardest_to_fill': 'industry specialist 1, business development 2, programmer 3',\n",
       " 'opinion_barriers': 'depth in staff with experience 1, not enough STEM background 2, inflexibility 3',\n",
       " 'retention_num_employer_changes': np.float64(1.0),\n",
       " 'retention_is_on_market': False,\n",
       " 'retention_sentiment': {'keys': ['My company has a good reputation in the industry',\n",
       "   'I want to stay with my company for at least 12 more months',\n",
       "   'I am satisfied with my current job stability',\n",
       "   'I am confident in my ability to find my next job in the industry'],\n",
       "  'values': array([5., 5., 5., 5.])},\n",
       " 'retention_factors': ['Work location flexibility',\n",
       "  'Salary',\n",
       "  'bonuses',\n",
       "  'Vacation time'],\n",
       " 'retention_misc': 'flexibility in country location 1',\n",
       " 'benefits_priorities': {'keys': ['Mental health support',\n",
       "   'Work-life balance initiatives',\n",
       "   'Financial wellness programs',\n",
       "   'Career development opportunities'],\n",
       "  'values': array([nan, nan, nan, nan])},\n",
       " 'benefits_entitlements': [],\n",
       " 'benefits_parental_leave_weeks': np.float64(nan),\n",
       " 'benefits_pto_weeks': np.float64(nan),\n",
       " 'benefits_sick_leave_days': np.float64(nan),\n",
       " 'benefits_unique': nan}"
      ]
     },
     "execution_count": 22,
     "metadata": {},
     "output_type": "execute_result"
    }
   ],
   "source": [
    "# example of company survey results\n",
    "resp_test.company"
   ]
  },
  {
   "cell_type": "markdown",
   "metadata": {},
   "source": [
    "# Access key class properties"
   ]
  },
  {
   "cell_type": "code",
   "execution_count": null,
   "metadata": {},
   "outputs": [
    {
     "name": "stdout",
     "output_type": "stream",
     "text": [
      "1008\n"
     ]
    }
   ],
   "source": [
    "pprint(len(analyst.respondents_list))"
   ]
  },
  {
   "cell_type": "markdown",
   "metadata": {},
   "source": [
    "The `respondents_list` holds a list of `Respondent` objects, each of which hold data for that particular response."
   ]
  },
  {
   "cell_type": "code",
   "execution_count": null,
   "metadata": {},
   "outputs": [
    {
     "data": {
      "text/plain": [
       "Token:     fkqh2mecyeh4ille74ccdfkqh2d4hld5\n",
       "Submitted: 2024-10-04 20:36:11\n",
       "Duration:  18.72 minutes\n",
       "Status:    Working"
      ]
     },
     "metadata": {},
     "output_type": "display_data"
    }
   ],
   "source": [
    "resp = analyst.respondents_list[0]\n",
    "resp"
   ]
  },
  {
   "cell_type": "code",
   "execution_count": null,
   "metadata": {},
   "outputs": [
    {
     "name": "stdout",
     "output_type": "stream",
     "text": [
      "{'age': np.float64(35.0),\n",
      " 'citizenship': 'Non-citizen (TN visa)',\n",
      " 'country': 'United States',\n",
      " 'degree': 'Chemistry',\n",
      " 'education': 'Doctorate',\n",
      " 'employment_status': \"I'm working professionally (e.g., at a company, \"\n",
      "                      'national lab)',\n",
      " 'ethnicity': ['Asian'],\n",
      " 'gender': 'Male',\n",
      " 'hours_worked': np.float64(40.0),\n",
      " 'income': np.float64(120000.0),\n",
      " 'military_status': 'No',\n",
      " 'sentiment': {'keys': [\"I feel good about what I'm working on\",\n",
      "                        'I feel good about my career path',\n",
      "                        'I feel good about my work-life balance',\n",
      "                        'I feel valued by those around me',\n",
      "                        'I see opportunities for career growth'],\n",
      "               'values': array([4., 4., 4., 4., 4.])},\n",
      " 'skills_demand': 'Scale up, the ability to keep up with and foresee '\n",
      "                  'research/industry trends and directions, language abilities '\n",
      "                  '(Chinese, Korean, Japanese) to learn from the bigger '\n",
      "                  'battery markets',\n",
      " 'skills_value_chain': ['Equipment manufacturing',\n",
      "                        'Recycling',\n",
      "                        'Cell production'],\n",
      " 'state': None,\n",
      " 'to_complete_industry_questions': True,\n",
      " 'to_complete_student_questions': nan,\n",
      " 'to_complete_unemployed_questions': nan,\n",
      " 'why_leave': nan,\n",
      " 'zip': '77007 (just moved back to V4N 5H2)'}\n"
     ]
    }
   ],
   "source": [
    "pprint(resp.census)"
   ]
  },
  {
   "cell_type": "code",
   "execution_count": null,
   "metadata": {},
   "outputs": [
    {
     "name": "stdout",
     "output_type": "stream",
     "text": [
      "{'benefits_entitlements': [],\n",
      " 'benefits_parental_leave_weeks': np.float64(nan),\n",
      " 'benefits_priorities': {'keys': ['Mental health support',\n",
      "                                  'Work-life balance initiatives',\n",
      "                                  'Financial wellness programs',\n",
      "                                  'Career development opportunities'],\n",
      "                         'values': array([nan, nan, nan, nan])},\n",
      " 'benefits_pto_weeks': np.float64(nan),\n",
      " 'benefits_sick_leave_days': np.float64(nan),\n",
      " 'benefits_unique': nan,\n",
      " 'company_country': 'United States',\n",
      " 'company_days_in_office': np.float64(4.0),\n",
      " 'company_headcount': '11-50',\n",
      " 'company_satisfaction': {'keys': ['I am satisfied with my compensation',\n",
      "                                   'I am being underpaid compared to similar '\n",
      "                                   'roles',\n",
      "                                   'I am satisfied with the raises and/or '\n",
      "                                   'bonuses I have been receiving'],\n",
      "                          'values': array([3., 4., 2.])},\n",
      " 'company_stage': 'Startup (early growth)',\n",
      " 'company_state': 'Texas',\n",
      " 'company_team_count': '1-10',\n",
      " 'company_value_chain': ['Component/precursor production'],\n",
      " 'company_years_with': np.float64(3.0),\n",
      " 'opinion_barriers': 'Startups are fighting headwinds in terms of market and '\n",
      "                     'investment, startup culture is not always the most '\n",
      "                     'professional, incumbents are hard to displace',\n",
      " 'opinion_hardest_to_fill': 'CEO, overnight production staff, middle level '\n",
      "                            'staff',\n",
      " 'opinion_top_skills': 'Doing a PhD on the same class of materials as start '\n",
      "                       'up, ability to be adaptable and troubleshoot, strong '\n",
      "                       'network',\n",
      " 'retention_factors': ['Company culture',\n",
      "                       'Total hours worked',\n",
      "                       'Salary',\n",
      "                       'bonuses',\n",
      "                       'Career growth opportunities',\n",
      "                       'Job stability',\n",
      "                       'Vacation time'],\n",
      " 'retention_is_on_market': False,\n",
      " 'retention_misc': \"Just recently changed jobs, still haven't started new one \"\n",
      "                   'yet',\n",
      " 'retention_num_employer_changes': np.float64(2.0),\n",
      " 'retention_sentiment': {'keys': ['My company has a good reputation in the '\n",
      "                                  'industry',\n",
      "                                  'I want to stay with my company for at least '\n",
      "                                  '12 more months',\n",
      "                                  'I am satisfied with my current job '\n",
      "                                  'stability',\n",
      "                                  'I am confident in my ability to find my '\n",
      "                                  'next job in the industry'],\n",
      "                         'values': array([2., 2., 4., 4.])},\n",
      " 'role_level': 'Manager',\n",
      " 'role_prev_industries': 'No',\n",
      " 'role_prev_role': nan,\n",
      " 'role_role': ['Managing people',\n",
      "               'Managing projects or programs',\n",
      "               'Research and development',\n",
      "               'Supply chain',\n",
      "               'Testing and validation',\n",
      "               'Product design',\n",
      "               'New product introduction (NPI)',\n",
      "               'Strategy and planning'],\n",
      " 'role_title': 'Manager, R&D',\n",
      " 'role_why_choose': ['Supportive team and environment',\n",
      "                     'Work-life balance',\n",
      "                     'Sustainability and impact',\n",
      "                     'Learning and skills development',\n",
      "                     'Challenge and innovation',\n",
      "                     'Autonomy and independence'],\n",
      " 'salary_base': np.float64(125000.0),\n",
      " 'salary_comp_types': ['Equity (stock', 'options', 'etc.)'],\n",
      " 'salary_num_bonuses': '0',\n",
      " 'salary_num_raises': '1',\n",
      " 'skills_how_to_improve': ['Better understanding of culture and norms'],\n",
      " 'skills_how_was_trained': ['Learning on the job', 'Peer mentors'],\n",
      " 'skills_num_internships': '2',\n",
      " 'skills_preparedness': {'keys': ['After working for 1 week?',\n",
      "                                  'After working for 1 month?',\n",
      "                                  'After working for 3 months?',\n",
      "                                  'Last week?'],\n",
      "                         'values': array([3., 3., 4., 4.])}}\n"
     ]
    }
   ],
   "source": [
    "pprint(resp.company)"
   ]
  },
  {
   "cell_type": "code",
   "execution_count": null,
   "metadata": {},
   "outputs": [
    {
     "name": "stdout",
     "output_type": "stream",
     "text": [
      "{'ideal_job_aspects': [],\n",
      " 'ideal_job_title': nan,\n",
      " 'ideal_salary': np.float64(nan),\n",
      " 'ideal_value_chain': [],\n",
      " 'internship_hourly_pay': np.float64(nan),\n",
      " 'internship_hours_per_week': np.float64(nan),\n",
      " 'internship_role': [],\n",
      " 'internship_skills_unprepared': nan,\n",
      " 'internship_skills_wish_learned': nan,\n",
      " 'internship_top_skills': nan,\n",
      " 'internship_value_chain': [],\n",
      " 'num_internships': nan,\n",
      " 'student_sentiment': {'keys': ['After graduating, I know what role(s) to '\n",
      "                                'apply to',\n",
      "                                'After graduating, I will find a job',\n",
      "                                'By the time I graduate, I will have learned '\n",
      "                                'the skills needed to find a job',\n",
      "                                'I am optimistic about the future of the '\n",
      "                                'battery industry'],\n",
      "                       'values': array([nan, nan, nan, nan])}}\n"
     ]
    }
   ],
   "source": [
    "pprint(resp.student)"
   ]
  },
  {
   "cell_type": "code",
   "execution_count": null,
   "metadata": {},
   "outputs": [
    {
     "data": {
      "text/plain": [
       "True"
      ]
     },
     "metadata": {},
     "output_type": "display_data"
    }
   ],
   "source": [
    "resp.is_completed_all_questions"
   ]
  },
  {
   "cell_type": "code",
   "execution_count": null,
   "metadata": {},
   "outputs": [
    {
     "data": {
      "text/plain": [
       "False"
      ]
     },
     "metadata": {},
     "output_type": "display_data"
    }
   ],
   "source": [
    "resp.is_student"
   ]
  },
  {
   "cell_type": "code",
   "execution_count": null,
   "metadata": {},
   "outputs": [
    {
     "data": {
      "text/plain": [
       "True"
      ]
     },
     "metadata": {},
     "output_type": "display_data"
    }
   ],
   "source": [
    "resp.is_working"
   ]
  },
  {
   "cell_type": "code",
   "execution_count": null,
   "metadata": {},
   "outputs": [
    {
     "data": {
      "text/plain": [
       "False"
      ]
     },
     "metadata": {},
     "output_type": "display_data"
    }
   ],
   "source": [
    "resp.is_unemployed"
   ]
  }
 ],
 "metadata": {
  "kernelspec": {
   "display_name": "census-env",
   "language": "python",
   "name": "python3"
  },
  "language_info": {
   "codemirror_mode": {
    "name": "ipython",
    "version": 3
   },
   "file_extension": ".py",
   "mimetype": "text/x-python",
   "name": "python",
   "nbconvert_exporter": "python",
   "pygments_lexer": "ipython3",
   "version": "3.13.1"
  }
 },
 "nbformat": 4,
 "nbformat_minor": 2
}
