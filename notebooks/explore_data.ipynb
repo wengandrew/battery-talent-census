{
 "cells": [
  {
   "cell_type": "markdown",
   "metadata": {},
   "source": [
    "# Start Here\n",
    "\n",
    "December 16, 2024\n",
    "\n",
    "This notebook demonstrates how to use the source code to analyze the Census data."
   ]
  },
  {
   "cell_type": "code",
   "execution_count": 1,
   "metadata": {},
   "outputs": [
    {
     "name": "stdout",
     "output_type": "stream",
     "text": [
      "Directory set to: /Users/aweng/code/battery-talent-census\n"
     ]
    }
   ],
   "source": [
    "import os\n",
    "\n",
    "current_folder = os.path.basename(os.getcwd())\n",
    "if current_folder == 'notebooks':\n",
    "    root_path = os.path.dirname(os.path.abspath(''))\n",
    "    os.chdir(root_path)\n",
    "\n",
    "print(f'Directory set to: {os.getcwd()}')\n",
    "\n",
    "import numpy as np\n",
    "import matplotlib.pyplot as plt\n",
    "import pandas as pd\n",
    "\n",
    "from src.respondent import Respondent\n",
    "from src.analyst import Analyst\n",
    "\n",
    "from IPython import get_ipython\n",
    "# Automatically reload all modules every time a line of code is executed\n",
    "get_ipython().run_line_magic('load_ext', 'autoreload')\n",
    "get_ipython().run_line_magic('autoreload', '2')\n"
   ]
  },
  {
   "cell_type": "markdown",
   "metadata": {},
   "source": [
    "# Start up the analysis"
   ]
  },
  {
   "cell_type": "code",
   "execution_count": 2,
   "metadata": {},
   "outputs": [],
   "source": [
    "analyst = Analyst()\n",
    "analyst.load_data()\n",
    "analyst.preprocess_data()\n",
    "analyst.build_respondents_list()"
   ]
  },
  {
   "cell_type": "markdown",
   "metadata": {},
   "source": [
    "# Access key class properties"
   ]
  },
  {
   "cell_type": "code",
   "execution_count": 3,
   "metadata": {},
   "outputs": [
    {
     "name": "stdout",
     "output_type": "stream",
     "text": [
      "1008\n"
     ]
    }
   ],
   "source": [
    "print(len(analyst.respondents_list))"
   ]
  },
  {
   "cell_type": "markdown",
   "metadata": {},
   "source": [
    "The `respondents_list` holds a list of `Respondent` objects, each of which hold data for that particular response."
   ]
  },
  {
   "cell_type": "code",
   "execution_count": 4,
   "metadata": {},
   "outputs": [
    {
     "data": {
      "text/plain": [
       "Token:     fkqh2mecyeh4ille74ccdfkqh2d4hld5\n",
       "Submitted: 2024-10-04 20:36:11\n",
       "Duration:  18.72 minutes\n",
       "Status:    Working"
      ]
     },
     "execution_count": 4,
     "metadata": {},
     "output_type": "execute_result"
    }
   ],
   "source": [
    "resp = analyst.respondents_list[0]\n",
    "resp"
   ]
  },
  {
   "cell_type": "code",
   "execution_count": 5,
   "metadata": {},
   "outputs": [
    {
     "data": {
      "text/plain": [
       "{'sentiment': {'keys': [\"I feel good about what I'm working on\",\n",
       "   'I feel good about my career path',\n",
       "   'I feel good about my work-life balance',\n",
       "   'I feel valued by those around me',\n",
       "   'I see opportunities for career growth'],\n",
       "  'values': array([4., 4., 4., 4., 4.])},\n",
       " 'skills_demand': 'Scale up, the ability to keep up with and foresee research/industry trends and directions, language abilities (Chinese, Korean, Japanese) to learn from the bigger battery markets',\n",
       " 'skills_value_chain': ['Equipment manufacturing',\n",
       "  'Recycling',\n",
       "  'Cell production'],\n",
       " 'education': 'Doctorate',\n",
       " 'degree': 'Chemistry',\n",
       " 'country': 'United States',\n",
       " 'zip': '77007 (just moved back to V4N 5H2)',\n",
       " 'state': None,\n",
       " 'income': np.float64(120000.0),\n",
       " 'hours_worked': np.float64(40.0),\n",
       " 'age': np.float64(35.0),\n",
       " 'ethnicity': ['Asian'],\n",
       " 'gender': 'Male',\n",
       " 'citizenship': 'Non-citizen (TN visa)',\n",
       " 'military_status': 'No',\n",
       " 'employment_status': \"I'm working professionally (e.g., at a company, national lab)\",\n",
       " 'to_complete_industry_questions': True,\n",
       " 'to_complete_student_questions': nan,\n",
       " 'to_complete_unemployed_questions': nan,\n",
       " 'why_leave': nan}"
      ]
     },
     "execution_count": 5,
     "metadata": {},
     "output_type": "execute_result"
    }
   ],
   "source": [
    "resp.census"
   ]
  },
  {
   "cell_type": "code",
   "execution_count": 6,
   "metadata": {},
   "outputs": [
    {
     "data": {
      "text/plain": [
       "{'company_satisfaction': {'keys': ['I am satisfied with my compensation',\n",
       "   'I am being underpaid compared to similar roles',\n",
       "   'I am satisfied with the raises and/or bonuses I have been receiving'],\n",
       "  'values': array([3., 4., 2.])},\n",
       " 'salary_base': np.float64(125000.0),\n",
       " 'salary_comp_types': ['Equity (stock', 'options', 'etc.)'],\n",
       " 'salary_num_raises': '1',\n",
       " 'salary_num_bonuses': '0',\n",
       " 'company_years_with': np.float64(3.0),\n",
       " 'company_value_chain': ['Component/precursor production'],\n",
       " 'company_stage': 'Startup (early growth)',\n",
       " 'company_country': 'United States',\n",
       " 'company_state': 'Texas',\n",
       " 'company_days_in_office': np.float64(4.0),\n",
       " 'company_headcount': '11-50',\n",
       " 'company_team_count': '1-10',\n",
       " 'role_title': 'Manager, R&D',\n",
       " 'role_role': ['Managing people',\n",
       "  'Managing projects or programs',\n",
       "  'Research and development',\n",
       "  'Supply chain',\n",
       "  'Testing and validation',\n",
       "  'Product design',\n",
       "  'New product introduction (NPI)',\n",
       "  'Strategy and planning'],\n",
       " 'role_level': 'Manager',\n",
       " 'role_why_choose': ['Supportive team and environment',\n",
       "  'Work-life balance',\n",
       "  'Sustainability and impact',\n",
       "  'Learning and skills development',\n",
       "  'Challenge and innovation',\n",
       "  'Autonomy and independence'],\n",
       " 'role_prev_industries': 'No',\n",
       " 'role_prev_role': nan,\n",
       " 'skills_preparedness': {'keys': ['After working for 1 week?',\n",
       "   'After working for 1 month?',\n",
       "   'After working for 3 months?',\n",
       "   'Last week?'],\n",
       "  'values': array([3., 3., 4., 4.])},\n",
       " 'skills_how_was_trained': ['Learning on the job', 'Peer mentors'],\n",
       " 'skills_how_to_improve': ['Better understanding of culture and norms'],\n",
       " 'skills_num_internships': '2',\n",
       " 'opinion_top_skills': 'Doing a PhD on the same class of materials as start up, ability to be adaptable and troubleshoot, strong network',\n",
       " 'opinion_hardest_to_fill': 'CEO, overnight production staff, middle level staff',\n",
       " 'opinion_barriers': 'Startups are fighting headwinds in terms of market and investment, startup culture is not always the most professional, incumbents are hard to displace',\n",
       " 'retention_num_employer_changes': np.float64(2.0),\n",
       " 'retention_is_on_market': False,\n",
       " 'retention_sentiment': {'keys': ['My company has a good reputation in the industry',\n",
       "   'I want to stay with my company for at least 12 more months',\n",
       "   'I am satisfied with my current job stability',\n",
       "   'I am confident in my ability to find my next job in the industry'],\n",
       "  'values': array([2., 2., 4., 4.])},\n",
       " 'retention_factors': ['Company culture',\n",
       "  'Total hours worked',\n",
       "  'Salary',\n",
       "  'bonuses',\n",
       "  'Career growth opportunities',\n",
       "  'Job stability',\n",
       "  'Vacation time'],\n",
       " 'retention_misc': \"Just recently changed jobs, still haven't started new one yet\",\n",
       " 'benefits_priorities': {'keys': ['Mental health support',\n",
       "   'Work-life balance initiatives',\n",
       "   'Financial wellness programs',\n",
       "   'Career development opportunities'],\n",
       "  'values': array([nan, nan, nan, nan])},\n",
       " 'benefits_entitlements': [],\n",
       " 'benefits_parental_leave_weeks': np.float64(nan),\n",
       " 'benefits_pto_weeks': np.float64(nan),\n",
       " 'benefits_sick_leave_days': np.float64(nan),\n",
       " 'benefits_unique': nan}"
      ]
     },
     "execution_count": 6,
     "metadata": {},
     "output_type": "execute_result"
    }
   ],
   "source": [
    "resp.company"
   ]
  },
  {
   "cell_type": "code",
   "execution_count": 7,
   "metadata": {},
   "outputs": [
    {
     "data": {
      "text/plain": [
       "{'student_sentiment': {'keys': ['After graduating, I know what role(s) to apply to',\n",
       "   'After graduating, I will find a job',\n",
       "   'By the time I graduate, I will have learned the skills needed to find a job',\n",
       "   'I am optimistic about the future of the battery industry'],\n",
       "  'values': array([nan, nan, nan, nan])},\n",
       " 'ideal_job_title': nan,\n",
       " 'ideal_value_chain': [],\n",
       " 'ideal_job_aspects': [],\n",
       " 'ideal_salary': np.float64(nan),\n",
       " 'num_internships': nan,\n",
       " 'internship_value_chain': [],\n",
       " 'internship_role': [],\n",
       " 'internship_top_skills': nan,\n",
       " 'internship_skills_wish_learned': nan,\n",
       " 'internship_skills_unprepared': nan,\n",
       " 'internship_hourly_pay': np.float64(nan),\n",
       " 'internship_hours_per_week': np.float64(nan)}"
      ]
     },
     "execution_count": 7,
     "metadata": {},
     "output_type": "execute_result"
    }
   ],
   "source": [
    "resp.student"
   ]
  },
  {
   "cell_type": "code",
   "execution_count": 8,
   "metadata": {},
   "outputs": [
    {
     "data": {
      "text/plain": [
       "True"
      ]
     },
     "execution_count": 8,
     "metadata": {},
     "output_type": "execute_result"
    }
   ],
   "source": [
    "resp.is_completed_all_questions"
   ]
  },
  {
   "cell_type": "code",
   "execution_count": 14,
   "metadata": {},
   "outputs": [
    {
     "data": {
      "text/plain": [
       "False"
      ]
     },
     "execution_count": 14,
     "metadata": {},
     "output_type": "execute_result"
    }
   ],
   "source": [
    "resp.is_student"
   ]
  },
  {
   "cell_type": "code",
   "execution_count": 15,
   "metadata": {},
   "outputs": [
    {
     "data": {
      "text/plain": [
       "True"
      ]
     },
     "execution_count": 15,
     "metadata": {},
     "output_type": "execute_result"
    }
   ],
   "source": [
    "resp.is_working"
   ]
  },
  {
   "cell_type": "code",
   "execution_count": 16,
   "metadata": {},
   "outputs": [
    {
     "data": {
      "text/plain": [
       "False"
      ]
     },
     "execution_count": 16,
     "metadata": {},
     "output_type": "execute_result"
    }
   ],
   "source": [
    "resp.is_unemployed"
   ]
  },
  {
   "cell_type": "markdown",
   "metadata": {},
   "source": [
    "# Summarize stats for all respondents"
   ]
  },
  {
   "cell_type": "code",
   "execution_count": 9,
   "metadata": {},
   "outputs": [
    {
     "name": "stdout",
     "output_type": "stream",
     "text": [
      "num_total : 1008\n",
      "num_working : 797\n",
      "num_working_and_completed_all_questions : 605\n",
      "num_student : 84\n",
      "num_student_and_completed_all_questions : 79\n",
      "num_unemployed : 76\n",
      "num_unemployed_and_completed_all_questions : 60\n",
      "mins_working_median : 4.258333333333333\n",
      "mins_working_completed_median : 14.4\n",
      "mins_student_median : 5.6\n",
      "mins_student_completed_median : 7.75\n",
      "mins_unemployed_median : 3.7666666666666666\n",
      "mins_unemployed_completed_median : 14.45\n",
      "mins_working_list : [111.05, 2.5, 4.6, 6.3, 2.6166666666666667, 2.5, 5.183333333333334, 2.9, 3.8333333333333335, 1.7666666666666666, 9.65, 4.516666666666667, 2.9833333333333334, 6.966666666666667, 4.216666666666667, 5.25, 2.716666666666667, 4.0, 3.8833333333333333, 19.533333333333335, 8.883333333333333, 4.733333333333333, 3.033333333333333, 4.166666666666667, 5.216666666666667, 2.6666666666666665, 3.9166666666666665, 3.216666666666667, 7.45, 6.4, 3.75, 3.5166666666666666, 9.766666666666667, 3.1333333333333333, 5.7, 7.1, 3.1333333333333333, 34.06666666666667, 522.7333333333333, 5.3, 3.6, 2.2333333333333334, 1.4833333333333334, 4.6, 2.9, 3.933333333333333, 4.133333333333334, 3.6666666666666665, 13.433333333333334, 2.816666666666667, 5.883333333333334, 2.9833333333333334, 3.8, 2.6166666666666667, 6.483333333333333, 4.016666666666667, 4.9, 4.2, 10.133333333333333, 9.033333333333333, 10.333333333333334, 5.383333333333334, 14.366666666666667, 2.2333333333333334, 4.666666666666667, 5.35, 3.533333333333333, 4.8, 1439.2166666666667, 5.316666666666666, 4.516666666666667, 7.983333333333333, 4.633333333333334, 2.433333333333333, 10.033333333333333, 3.966666666666667, 4.45, 2.85, 4.166666666666667, 3.4166666666666665, 2.216666666666667, 3.55, 3.0166666666666666, 6.366666666666666, 1.2833333333333334, 2.3666666666666667, 13.833333333333334, 92.81666666666666, 2.3666666666666667, 4.95, 3.8333333333333335, 3.5833333333333335, 4.816666666666666, 2.9833333333333334, 17.0, 6.766666666666667, 2.316666666666667, 4.766666666666667, 3.1333333333333333, 2.2666666666666666, 3.05, 3.0166666666666666, 3.533333333333333, 4.383333333333334, 3.65, 4.616666666666666, 3.3666666666666667, 2.8333333333333335, 14.866666666666667, 5.65, 4.283333333333333, 1.6, 3.1166666666666667, 1.9666666666666666, 4.433333333333334, 2.716666666666667, 1.55, 2.3, 1.6, 4.433333333333334, 3.0833333333333335, 5.783333333333333, 3.7666666666666666, 4.383333333333334, 4.233333333333333, 16.4, 39.95, 3.4833333333333334, 5.666666666666667, 4.433333333333334, 3.7, 3.3333333333333335, 6.816666666666666, 7.05, 1.9833333333333334, 3.3, 4.866666666666666, 1973.7333333333333, 5.333333333333333, 4.416666666666667, 8.483333333333333, 0.75, 4.283333333333333, 2.466666666666667, 2.966666666666667, 7.25, 7.583333333333333, 2.9166666666666665, 4.583333333333333, 4.916666666666667, 2.35, 2.8833333333333333, 3.716666666666667, 2.8666666666666667, 6.883333333333334, 3.0166666666666666, 3.683333333333333, 1.7333333333333334, 2.533333333333333, 4.783333333333333, 3.1333333333333333, 2.9166666666666665, 2.3, 5.216666666666667, 4.2, 9.883333333333333, 5.45, 19.666666666666668, 1.8166666666666667, 4.6, 10.316666666666666, 4.066666666666666, 2.283333333333333, 4.983333333333333, 3.2, 5.1, 10.95, 4.866666666666666, 7.0, 8.333333333333334, 3.9833333333333334, 5.683333333333334, 5.0, 6.2, 4.45, 4.083333333333333, 4.683333333333334, 20.233333333333334, 8.583333333333334, 5.883333333333334, 6.35, 2.033333333333333]\n",
      "mins_working_completed_list : [18.716666666666665, 7.6, 7.9, 8.916666666666666, 12.05, 7.0, 7.3, 34.333333333333336, 14.066666666666666, 37.28333333333333, 8.633333333333333, 15.35, 12.75, 18.533333333333335, 12.166666666666666, 9.55, 26.15, 8.8, 8.016666666666667, 9.583333333333334, 8.883333333333333, 9.066666666666666, 5.683333333333334, 8.433333333333334, 14.8, 10.6, 30.033333333333335, 8.05, 18.85, 8.4, 9.366666666666667, 10.8, 16.15, 25.166666666666668, 23.85, 10.75, 67.06666666666666, 14.516666666666667, 155.23333333333332, 9.8, 7.9, 47.983333333333334, 11.316666666666666, 9.516666666666667, 11.166666666666666, 8.533333333333333, 17.0, 28.683333333333334, 13.766666666666667, 25.916666666666668, 9.166666666666666, 6.866666666666666, 10.75, 10.733333333333333, 12.85, 11.833333333333334, 17.366666666666667, 12.033333333333333, 7.366666666666666, 9.85, 9.866666666666667, 6.95, 15.95, 11.433333333333334, 10.216666666666667, 15.283333333333333, 10.166666666666666, 16.233333333333334, 10.016666666666667, 10.983333333333333, 6.466666666666667, 7.783333333333333, 42.05, 12.033333333333333, 11.433333333333334, 7.583333333333333, 10.716666666666667, 13.233333333333333, 16.666666666666668, 13.783333333333333, 16.483333333333334, 5.733333333333333, 5.25, 15.833333333333334, 10.9, 12.45, 10.933333333333334, 10.066666666666666, 11.7, 9.333333333333334, 11.783333333333333, 8.733333333333333, 22.166666666666668, 4.833333333333333, 17.633333333333333, 14.483333333333333, 23.216666666666665, 8.683333333333334, 23.716666666666665, 13.883333333333333, 7.15, 7.6, 31.583333333333332, 11.266666666666667, 390.48333333333335, 11.55, 9.416666666666666, 33.55, 7.3, 18.916666666666668, 11.35, 379.56666666666666, 10.233333333333333, 22.1, 23.366666666666667, 13.083333333333334, 6.316666666666666, 9.816666666666666, 12.65, 16.65, 13.7, 10.533333333333333, 9.95, 18.7, 7.7, 8.133333333333333, 15.716666666666667, 87.81666666666666, 14.1, 14.566666666666666, 15.233333333333333, 11.833333333333334, 11.7, 11.45, 7.033333333333333, 11.266666666666667, 10.166666666666666, 11.666666666666666, 16.4, 20.35, 246.66666666666666, 13.133333333333333, 14.75, 11.766666666666667, 49.61666666666667, 23.283333333333335, 23.633333333333333, 9.216666666666667, 11.45, 18.816666666666666, 36.266666666666666, 12.4, 13.65, 11.466666666666667, 17.65, 8.15, 21.15, 38.11666666666667, 5.616666666666666, 35.5, 27.0, 13.016666666666667, 13.1, 16.166666666666668, 12.9, 24.8, 39.25, 9.333333333333334, 13.15, 18.283333333333335, 4.283333333333333, 8.716666666666667, 29.116666666666667, 26.533333333333335, 15.283333333333333, 12.416666666666666, 1248.0666666666666, 19.283333333333335, 47.38333333333333, 13.583333333333334, 15.1, 8.3, 10.366666666666667, 13.4, 13.0, 10.683333333333334, 16.733333333333334, 14.0, 20.3, 15.416666666666666, 17.516666666666666, 7.683333333333334, 19.95, 21.35, 25.533333333333335, 16.633333333333333, 15.166666666666666, 15.0, 16.533333333333335, 14.683333333333334, 23.5, 13.55, 16.583333333333332, 63.81666666666667, 44.583333333333336, 19.7, 34.25, 3006.4166666666665, 18.766666666666666, 18.95, 208.41666666666666, 11.35, 11.95, 12.533333333333333, 11.433333333333334, 4215.233333333334, 53.666666666666664, 13.433333333333334, 14.866666666666667, 9.5, 43.13333333333333, 15.966666666666667, 20.633333333333333, 10.05, 17.116666666666667, 29.7, 50.983333333333334, 4.2, 12.666666666666666, 15.55, 20.466666666666665, 15.6, 7.783333333333333, 24.566666666666666, 10.833333333333334, 14.05, 10.633333333333333, 37.166666666666664, 21.416666666666668, 10.85, 11.833333333333334, 12.8, 7.133333333333334, 10.733333333333333, 7.3, 13.133333333333333, 12.433333333333334, 8.666666666666666, 9.7, 7.916666666666667, 20.95, 13.716666666666667, 19.966666666666665, 15.683333333333334, 13.166666666666666, 6.516666666666667, 9.9, 18.65, 12.683333333333334, 13.2, 14.433333333333334, 8.266666666666667, 36.03333333333333, 16.766666666666666, 56.18333333333333, 9.216666666666667, 54.833333333333336, 19.483333333333334, 10.2, 21.166666666666668, 11.716666666666667, 26.95, 76.21666666666667, 25.366666666666667, 11.75, 8.833333333333334, 296.4166666666667, 18.083333333333332, 9.383333333333333, 10.683333333333334, 14.75, 13.833333333333334, 9.333333333333334, 12.233333333333333, 37.983333333333334, 10.7, 11.55, 16.916666666666668, 9.533333333333333, 12.833333333333334, 9.516666666666667, 15.2, 19.333333333333332, 50.8, 7.116666666666666, 17.2, 17.933333333333334, 35.766666666666666, 21.283333333333335, 8.183333333333334, 2909.85, 12.316666666666666, 5.6, 9.933333333333334, 13.95, 33.53333333333333, 6.166666666666667, 10.5, 17.1, 8.333333333333334, 12.733333333333333, 13.983333333333333, 26.7, 13.883333333333333, 26.666666666666668, 7.4, 14.4, 10.566666666666666, 12.3, 80.98333333333333, 25.4, 19.0, 14.916666666666666, 19.25, 61.833333333333336, 18.3, 7.2, 32.63333333333333, 27.466666666666665, 10.283333333333333, 4032.0, 38.63333333333333, 7.7, 35.63333333333333, 19.05, 21.183333333333334, 11.5, 13.433333333333334, 172.51666666666668, 11.166666666666666, 22.966666666666665, 16.45, 26.133333333333333, 7.016666666666667, 14.433333333333334, 14.05, 6.333333333333333, 16.583333333333332, 19.283333333333335, 7.816666666666666, 28.716666666666665, 19.2, 29.7, 19.733333333333334, 32.666666666666664, 10.5, 41.916666666666664, 13.666666666666666, 14.75, 10.3, 38.5, 9.683333333333334, 46.53333333333333, 16.933333333333334, 74.3, 35.8, 31.733333333333334, 12.6, 16.3, 14.533333333333333, 14.566666666666666, 15.45, 19.433333333333334, 18.85, 17.416666666666668, 40.86666666666667, 32.916666666666664, 14.55, 14.25, 8.2, 20.5, 22.45, 12.766666666666667, 12.183333333333334, 9.633333333333333, 17.066666666666666, 11.766666666666667, 11.833333333333334, 18.0, 17.15, 22.05, 13.1, 21.516666666666666, 10.616666666666667, 14.166666666666666, 193.61666666666667, 22.7, 15.433333333333334, 23.9, 11.216666666666667, 14.3, 13.35, 11.383333333333333, 10.716666666666667, 9.3, 7.666666666666667, 10.816666666666666, 22.616666666666667, 17.983333333333334, 12.083333333333334, 8.866666666666667, 18.8, 2850.733333333333, 18.616666666666667, 16.616666666666667, 6.5, 13.416666666666666, 21.1, 6.8, 28.666666666666668, 12.516666666666667, 11.416666666666666, 49.25, 26.083333333333332, 16.083333333333332, 17.05, 7.283333333333333, 9.533333333333333, 43.233333333333334, 8.6, 8.916666666666666, 24.966666666666665, 8.766666666666667, 21.2, 22.95, 13.316666666666666, 23.55, 20.783333333333335, 20.233333333333334, 11.65, 25.833333333333332, 31.1, 23.883333333333333, 22.333333333333332, 11.85, 9.95, 54.96666666666667, 14.333333333333334, 10.25, 13.883333333333333, 20.716666666666665, 38.86666666666667, 11.7, 22.7, 9.716666666666667, 9.716666666666667, 14.433333333333334, 27.033333333333335, 15.3, 25.633333333333333, 24.233333333333334, 12.083333333333334, 13.85, 18.9, 11.05, 7.633333333333334, 13.133333333333333, 9.483333333333333, 18.233333333333334, 11.0, 18.016666666666666, 22.65, 24.3, 15.266666666666667, 32.15, 13.75, 13.833333333333334, 28.566666666666666, 10.166666666666666, 21.033333333333335, 9.2, 12.933333333333334, 16.333333333333332, 13.25, 19.366666666666667, 29.8, 49.55, 11.416666666666666, 10.4, 8.15, 16.983333333333334, 28.033333333333335, 12.2, 6.533333333333333, 6.85, 10.666666666666666, 46.4, 64.93333333333334, 7.8, 11.9, 38.03333333333333, 19.6, 16.733333333333334, 21.033333333333335, 11.783333333333333, 15.266666666666667, 10.483333333333333, 27.35, 16.85, 24.383333333333333, 23.366666666666667, 17.966666666666665, 24.016666666666666, 12.9, 10.45, 12.016666666666667, 14.966666666666667, 14.016666666666667, 9.166666666666666, 13.6, 20.8, 7.25, 19.85, 17.333333333333332, 6.95, 28.566666666666666, 18.716666666666665, 10.533333333333333, 15.966666666666667, 9.466666666666667, 15.45, 1597.3833333333334, 54.833333333333336, 16.433333333333334, 28.616666666666667, 98.51666666666667, 5.916666666666667, 8.766666666666667, 13.35, 11.9, 9.65, 11.95, 7.566666666666666, 7.05, 17.2, 19.3, 8.083333333333334, 21.85, 29.1, 31.783333333333335, 24.716666666666665, 8.283333333333333, 123.6, 14.2, 6.45, 14.5, 14.9, 16.333333333333332, 13.35, 19.966666666666665, 14.333333333333334, 14.633333333333333, 14.65, 15.066666666666666, 10.616666666666667, 17.85, 25.266666666666666, 12.883333333333333, 10.95, 12.366666666666667, 24.716666666666665, 15.566666666666666, 17.516666666666666, 26.566666666666666, 14.183333333333334, 13.816666666666666, 20.866666666666667, 32.61666666666667, 10.983333333333333, 16.516666666666666, 8.516666666666667, 10.933333333333334, 31.416666666666668, 19.85, 10.816666666666666, 13.216666666666667, 19.216666666666665, 5.866666666666666, 17.466666666666665, 10.966666666666667, 22.416666666666668, 52.333333333333336, 10.216666666666667, 48.86666666666667, 9.0, 7.75, 35.166666666666664, 23.65, 24.366666666666667, 11.633333333333333, 14.35, 17.283333333333335, 22.35, 7.866666666666666, 17.95]\n",
      "mins_student_list : [5.116666666666666, 6.983333333333333, 5.9, 5.6, 3.9]\n",
      "mins_student_completed_list : [4.766666666666667, 4.7, 5.933333333333334, 22.333333333333332, 5.95, 6.95, 3.35, 4.733333333333333, 13.833333333333334, 10.183333333333334, 19.6, 78.31666666666666, 6.233333333333333, 9.633333333333333, 9.533333333333333, 6.666666666666667, 4.15, 9.65, 6.816666666666666, 6.35, 15.616666666666667, 4.883333333333334, 11.15, 9.6, 13.8, 5.483333333333333, 7.8, 6.766666666666667, 7.05, 4.5, 6.033333333333333, 9.95, 13.083333333333334, 4.283333333333333, 9.1, 9.116666666666667, 7.75, 20.516666666666666, 11.266666666666667, 1286.85, 4.75, 5.083333333333333, 6.683333333333334, 12.133333333333333, 6.616666666666666, 5.65, 10.966666666666667, 8.883333333333333, 13.75, 13.833333333333334, 9.65, 7.983333333333333, 4.3, 5.333333333333333, 8.55, 6.633333333333334, 10.083333333333334, 5.666666666666667, 4.15, 16.366666666666667, 5.266666666666667, 6.866666666666666, 63.81666666666667, 18.883333333333333, 334.26666666666665, 25.716666666666665, 7.35, 5.833333333333333, 5.966666666666667, 2.9833333333333334, 4.95, 11.433333333333334, 13.066666666666666, 5.3, 25.333333333333332, 27.566666666666666, 7.483333333333333, 21.45, 7.266666666666667]\n",
      "mins_unemployed_list : [4.45, 9.966666666666667, 3.533333333333333, 5.083333333333333, 4.0, 2.816666666666667, 0.2, 2.933333333333333, 5.816666666666666, 1.3333333333333333, 3.283333333333333, 5.6, 3.5, 2.65, 5.7, 4.4]\n",
      "mins_unemployed_completed_list : [18.25, 8.133333333333333, 9.066666666666666, 15.5, 12.766666666666667, 6.616666666666666, 7.383333333333334, 8.7, 14.283333333333333, 38.7, 7.916666666666667, 16.283333333333335, 26.166666666666668, 5.666666666666667, 17.783333333333335, 26.683333333333334, 13.333333333333334, 12.283333333333333, 366.55, 31.483333333333334, 12.9, 10.333333333333334, 10.066666666666666, 22.75, 26.183333333333334, 14.483333333333333, 15.983333333333333, 20.366666666666667, 27.133333333333333, 14.416666666666666, 9.733333333333333, 14.85, 17.1, 9.3, 14.7, 13.25, 10.15, 22.55, 13.4, 11.866666666666667, 22.333333333333332, 17.783333333333335, 35.2, 12.666666666666666, 14.5, 10.0, 29.316666666666666, 11.033333333333333, 36.81666666666667, 14.166666666666666, 32.45, 39.71666666666667, 8.0, 18.516666666666666, 12.733333333333333, 10.216666666666667, 7.916666666666667, 37.81666666666667, 17.666666666666668, 9.116666666666667]\n",
      "response_by_time_datetime : ['2024-10-04T20:36:11.000000000' '2024-10-04T20:35:28.000000000'\n",
      " '2024-10-04T20:34:34.000000000' ... '2024-12-16T15:40:44.000000000'\n",
      " '2024-12-16T16:02:03.000000000' '2024-12-16T16:05:31.000000000']\n",
      "response_by_time_num : [   1    2    3 ... 1006 1007 1008]\n"
     ]
    }
   ],
   "source": [
    "res = analyst.summarize_stats()\n",
    "[print(f'{x} : {y}') for (x,y) in zip(res.keys(), res.values())];"
   ]
  },
  {
   "cell_type": "code",
   "execution_count": 10,
   "metadata": {},
   "outputs": [
    {
     "name": "stdout",
     "output_type": "stream",
     "text": [
      "('degree', {'Mechanical Engineering': 139, 'Chemistry': 137, 'Chemical Engineering': 135, 'Materials Science and Engineering': 131, nan: 104, 'Electrical Engineering': 81, 'Physics': 48, 'Engineering (Other)': 40, 'Management and Business Administration': 32, 'Engineering Technology': 18, 'Nanotechnology Engineering': 16, 'Economics': 16, 'Civil and Environmental Engineering': 12, 'Mechatronics Engineering': 10, 'Other': 10, 'Engineering Science': 8, 'Computer Science': 7, 'Marketing': 6, 'Math': 5, 'Finance and Accounting': 5, 'Computer and Information Systems': 5, 'Design': 5, 'Environmental Science': 5, 'Legal Studies': 4, 'Biology': 2, 'Liberal Arts': 2, 'Communications': 2, 'Engineering Technician': 2, 'Computer Engineering': 2, 'Political Science': 2, 'Aerospace Engineering': 2, 'Architecture': 2, 'Criminal Justice': 2, 'Commercial Art and Graphic Design': 2, 'Psychology': 2, 'Software Engineering': 2, 'English': 1, 'Anthropology and Sociology': 1, 'Biomedical Engineering': 1, 'Education': 1, 'History': 1})\n",
      "('country', {'United States': 470, 'United Kingdom': 72, 'India': 70, 'Germany': 57, 'Canada': 35, nan: 29, 'Sweden': 27, 'France': 27, 'Spain': 19, 'Italy': 17, 'Australia': 16, 'Netherlands': 15, 'Belgium': 13, 'Iran': 10, 'China': 10, 'Turkey': 10, 'Korea South': 8, 'Switzerland': 8, 'Norway': 8, 'Japan': 7, 'Portugal': 5, 'Indonesia': 5, 'Mexico': 4, 'Singapore': 4, 'Estonia': 4, 'Argentina': 4, 'Nigeria': 4, 'Austria': 3, 'Israel': 3, 'Taiwan': 3, 'Poland': 3, 'Denmark': 3, 'Finland': 3, 'Malaysia': 3, 'South Africa': 2, 'Luxembourg': 2, 'Serbia': 2, 'Czech Republic': 2, 'United Arab Emirates': 2, 'Egypt': 2, 'Morocco': 1, 'Hungary': 1, 'Ireland {Republic}': 1, 'Sao Tome & Principe': 1, 'Russian Federation': 1, 'Colombia': 1, 'Rwanda': 1, 'Chile': 1, 'Romania': 1, 'Zambia': 1, 'Brazil': 1, 'Sri Lanka': 1, 'Pakistan': 1, 'Kenya': 1, 'Tunisia': 1, 'Tanzania': 1, 'Thailand': 1})\n",
      "('state', {None: 456, 'CA': 162, 'MI': 59, 'MA': 49, 'NY': 31, 'TX': 31, 'CO': 25, 'PA': 15, 'IL': 14, 'AZ': 14, 'NC': 11, 'IN': 11, 'NJ': 10, 'GA': 10, 'WA': 10, 'MO': 10, 'MD': 8, 'VA': 7, 'FL': 6, 'IA': 6, 'TN': 6, 'NV': 5, 'MN': 5, 'KY': 5, 'OR': 5, 'CT': 5, 'LA': 4, 'ME': 4, 'OH': 3, 'DC': 2, 'WI': 2, 'NH': 2, 'OK': 2, 'AL': 2, 'WV': 2, 'ID': 1, 'UT': 1, 'DE': 1, 'PR': 1, 'NM': 1, 'AR': 1, 'KS': 1, 'MS': 1, 'SC': 1})\n",
      "('education', {'Doctorate': 382, 'Masters': 358, 'Bachelors': 229, 'Diploma (high school)': 14, 'Associates (community college)': 11, nan: 9, 'Some college': 1, 'like bachelors': 1, 'Higher National Diploma': 1, '2 x HND': 1, 'High School Dropout': 1})\n",
      "('ethnicity', {'White': 496, 'Asian': 308, 'Decline to answer': 72, 'Hispanic': 63, 'Latino': 63, 'or Spanish origin': 63, 'Black or African American': 26, 'Middle Eastern or North African': 25, 'Indian': 6, 'American Indian or Alaska Native': 4, 'European': 3, 'Indian Origin African': 1, 'South Asian': 1, 'NZ European': 1, 'Igbo': 1, 'African': 1, 'Human': 1, 'white': 1, 'north european': 1, 'Options do not apply outside of US': 1, 'Pakistani': 1, 'West African': 1, 'SEA': 1, 'Turkish': 1})\n",
      "('gender', {'Male': 767, 'Female': 193, 'Decline to answer': 29, nan: 12, 'Non-binary': 7})\n",
      "('citizenship', {'Citizen (native-born)': 574, 'Non-citizen (Other)': 116, 'Citizen (foreign-born)': 106, nan: 76, 'Non-citizen (H-1B visa)': 49, 'Non-citizen (F1/M1/OPT holder)': 38, 'Decline to answer': 27, 'Non-citizen (TN visa)': 11, 'Blue Card': 1, 'Permanent resident': 1, 'Indian': 1, 'Residence to live work, do business and remain': 1, 'EU Residence card': 1, 'J1': 1, 'Dependent visa': 1, 'European passport (German)': 1, 'Permanent': 1, 'Green Card holder': 1, 'Settlement VISA': 1})\n",
      "('military_status', {'No': 860, 'Yes': 98, nan: 26, 'Decline to answer': 24})\n"
     ]
    }
   ],
   "source": [
    "res = analyst.summarize_census_backgrounds()\n",
    "[print(x) for x in res.items()];"
   ]
  },
  {
   "cell_type": "code",
   "execution_count": 11,
   "metadata": {},
   "outputs": [
    {
     "name": "stdout",
     "output_type": "stream",
     "text": [
      "('keys', [\"I feel good about what I'm working on\", 'I feel good about my career path', 'I feel good about my work-life balance', 'I feel valued by those around me', 'I see opportunities for career growth'])\n",
      "('values', array([[4., 4., 4., 4., 4.],\n",
      "       [5., 4., 3., 3., 4.],\n",
      "       [4., 4., 3., 4., 5.],\n",
      "       ...,\n",
      "       [4., 4., 4., 4., 4.],\n",
      "       [4., 3., 4., 3., 3.],\n",
      "       [5., 5., 4., 5., 5.]], shape=(1008, 5)))\n",
      "('mean', array([4.07192807, 3.80880881, 3.56854839, 3.73467337, 3.75376884]))\n",
      "('stdev', array([0.9756379 , 1.05432162, 1.08105884, 1.11000646, 1.13539375]))\n"
     ]
    }
   ],
   "source": [
    "res = analyst.summarize_census_sentiment()\n",
    "[print(x) for x in res.items()];"
   ]
  },
  {
   "cell_type": "code",
   "execution_count": 12,
   "metadata": {},
   "outputs": [
    {
     "name": "stdout",
     "output_type": "stream",
     "text": [
      "('skills_in_demand', ['Scale up, the ability to keep up with and foresee research/industry trends and directions, language abilities (Chinese, Korean, Japanese) to learn from the bigger battery markets', 'Design for Reliability,   Test', 'Agile, Innovative, Communication', 'design, manufacturing, and testing', 'Electrochemistry, Process, Data Analysis', 'Scientific Observation, Data Analysis, ability to contribute to a team', 'Data analysis; research and experimentation; presentation skills', 'data science, manufacturing, pouch cells', 'Technical Knowledge; Software; Entrepreneurship', 'BMS, Safety, and process engineer', '[cell knowledge]', 'Electrical knowledge / organisational skills / poise', 'Manufacturing scale-up', 'Knowledge, Research, Analytical Power', 'MATLAB optimisation 1; COMSOL 2;', 'Skill 1 - Cell Engineering (R&D and Mature Products), Skill 2 - Product Pricing/Cost Engineering, Skill 3 - Strategic Partnership', nan, 'software/programming   battery chemistry design    testing', 'Material Synthesis, Material Characterization, Data Analysis,', 'Long term vision and planning skills. Product knowledge. People communication', 'Leadership; Project Planning; Manufacturing Basics', nan, 'failure analysis; techno-economic analysis; codes/standards', 'electrochemistry, adaptability, perserverance', 'Cell cycling experience, electrode fabrication experience, SEM', 'hands-on experience building cells; materials research for dry processes; interdisciplinary collaboration', 'Battery Health Estimation Algorithm, Battery Field Systems Engineering, Battery Cost and Estimation Expertise', 'Design process test', 'Battery code and standards, Battery products strategy and management,Battery system design and operation,', 'Communications; integration instead of verticality', 'Technical background, customer relationship, industry understanding', 'Data analysis, statistics, communication', 'Creativity; problem solving; eye for detail', 'Communication, presentation, abstraction', 'Analysis, engineering, business skills', 'small molecule development for liquid electrolyte', '1. BMS, 2. Battery pack scale performance and safety concept, 3. Failure analysis and feedback to design/process/application', 'intrapersonal skills, technical knowledge, grid knowledge', 'Process Engineering, Equipment Engineering and scale up for production', 'Skilled battery techs', 'Supply Chain, Embedded Systems, Unit Economics', 'Unk', 'Cell design; Cell manufacturing; Pack design', nan, 'Manufacturing Experience, Industrial Knowledge, Quality Engineering', '\"Analytics; Physics; Engineering\"', 'Systems, modeling and tools, supply chain', 'cell fabrication', 'Skill 1: Good knowledge about science of batteries, Skill 2: Familiarity with new approaches such as AI and Machine Learning, Skill 3: Networking and communication skills', 'Cell design, cell manufacturing process ramp-up, battery simulation and analytics', 'Strong manufacturing knowledge, financial planning in the industry, end consumer market knowledge', 'troubleshooting, learning, communication', 'Modelling; Testing; Algorithms', 'Electrochemical analysis, resilience, adaptability', 'rawmaterials value chain, long term safety and circular econmy', 'Creativity', 'materials science, electrochemistry, eagerness/ability to learn', 'Market Knowledge, Product Knowledge on New Technologies, Strong Work Ethic', 'Fundamental electrochemistry knowledge, Material characterization, Data analysis and interpretation', 'Design of experiment (DoE); communication; leadership', 'Skill 1: Application/Integration Engineering.  Skill 2: Systems Engineering.  Skill 3: Marketing', 'Networking; fundraising; risk assessment', 'analytics; chemistry; negotiation', 'Electrochemistry. Data Analysis. Data Presentation', 'Realistic project planning, cell working principle knowledge, customer management', 'Understanding of interrelationships between processes; Understanding of Deviation; QMS', 'Critical Mineral commercial expertise', nan, 'Manufacturing, cell and testin', nan, 'I think that polymer science fundamentals are under appreciated in the battery space', 'Adaptability, Resilience, Creativity', 'Patience; dexterity; statistical analysis', 'Cell design, Chemistry, Manufacturing and automation engineering.', 'Strategic Growth, B2B Lead Gen, D2C Growth Marketing', 'Technical, Problem solving and Management', '1. Electrochemistry, 2. Cathode materials synthesis 3. Metallurgy', 'electrochemical analysis; data analysis; logical thinking', 'Test bench, integration, pack-level assembly', 'AI/ML, Electrochemical Expertise, Thermal Management', 'Manufacturing; AI optimization; Safety testing', 'Battery modelling, testing and maintenance, battery safety', nan, 'cross-functional work, bsuiness/tech junction', 'Sales', '\"electrochemistry fundamentals; AI methods; interdiscipinarys\"', 'Scientist, AI/ML, Supply Chain', 'Gigafactory manufacturing experience; knowing how to work with Asian companies (technically, culturally, etc); multidisciplinary engineering (knowing how to speak the language of other parts of batteries)', 'System engineering basics', 'Innovation, comperhensive understanding, contineous seeking for additional knowledge', 'cell modeling ; political maneuvering; networking', 'Data evaluation/statistics skills; genuine people skills; entrepeneurial mindset', 'Creative engineering, clear communication and expectations, multidisciplinary thinker', nan, 'Design, Thermal, Packaging', 'Battery safety experience -- understanding how to minimize potential failures/TR.', 'Battery Management Systems, Battery Modeling, Battery Charging, Battery Thermal Controls', 'Process scale-up, Electrolyte development, Electrochemical data analysis', 'Engineering supply chain project development', 'Battery manufacturing; go-to-market experience; thermal management', 'Technical expertise; basic chemistry knowledge; presentation and communication skills', 'Manufacturing excellence; supply chain logistics management; safety', 'Material Characterization; Programming; Hardware Knowledge', 'sales, energy market architecture, public speaking', 'Product development, business development, sales & marketing', 'Complex problem solving, manage preassure, innovation', '1, 2, 3', 'Marketing, Manufacturability, Leadership', 'Skill 1 Prior knowledge of industry Skill 2 ability to formulate effective procedures skill 3 flexibility', 'EIS, design of experiment, pouch cell build experience', 'Skill 1 - Problem solving skills', 'Subject Matter Expertise, Market Research, Commercial Negotiations', 'Faire protection engineering; maintenance; manufacturing technician', nan, nan, 'Software skills, commercial/technical expertise, systems based approaches', 'Skill 1: basic chemistry and electrochemistry knowledge skill2:mechanical design; skill3:clear communication', 'Material Development', 'Battery manufacturing skills, capabilities to quickly build prototype, simulation skills', 'Battery energy storage system; electrical engineering', 'Materials knowledge; research experience; understanding of basic science', 'Chemistry Materials knowledge, python, leadership', '1) Basic understanding of a battery 2) Battery manufacturing 3)Battery failures', 'Mandarin; Presentation skills; Metrology', 'project management; critical thinking; communication', 'Experience with deposition techniques; Experience with batteries; Experience with imaging techniques', 'Characterizstion;testing;syntheshis', 'Electrochemistry, mechanical and electrical engineering', 'Work prioritization and planning, advanced problem solving methods, core engineering methods (GD&T, and other traditional tools)', 'Manufacturing experience; failure analysis; pack design', 'battery management systems, Testing, validation', 'Cell Production; Cell Design; Simulation', 'Manufacturing; Materials Science; Data Analytics', 'Process Engineering; Product; Controls & Automation', 'People leadership, chemistry, data analysis', 'Skill 1 - ability to think independently to solve problems that cut across the academic areas of study, Skill 2 - abilit', 'electrical engineering, data science, manufacturing', 'Coding; Electrochemistry knowledge', nan, 'Advanced manufacturing; supply chain; cell development', nan, 'Data analysis,  presentation, coding', 'strong team work skills and intercultural competence, know how in data science, frustration tolerance :-)', 'software engineering (as opposed to data science)', 'strategy, networking, leadership', 'creativity, knowledge, methodology', 'Materials Science Knowledge, Engineering, cathode fabrication', 'Process development; statistics; electrochemistry', 'Electrochemistry, Materials Science, Critical Thinking', 'data analysis', nan, 'Manufacturing', 'manufacturing; software; reliability', 'Materials Science, electrochemistry, process engineering', 'Cell quality, supplier negotiation, battery SOC', 'Manufacturing, Electrochemistry, Team building', '\"Computer science; Electronics; Modelling\"', 'The ability to improve the process; software automation', '[Critical thinking], [Problem solving], [Team work]', nan, '[multilingualism 1] [product design 2] [marketing 3]', 'leadership, honesty, economics', 'Motivation, Innovation, AI', 'Coordinated BMS / cell strategy. Battery case manufacturing. Battery case cover materials.', 'ISO26262, FUSA, Thermal Runaway', 'perserverance, adaptablility, attention to detail', nan, 'integration into bigger picture, understanding numbers', 'Materials characterization skills; bench to pilot scale-up ability; processing/properties understanding', 'Manufacturing experience; Understanding technology from lab to product; understanding market segments', 'Electrochemistry data analysis/data science; manufacturing/scale-up knowledge; good communication of scientific findings', '[cell chemistry], [electronics],[systems engineering]', 'Control engineer, process engineer, manufacturing engineer', 'Systems level thinking; battery data understanding; voice of customer', 'Electrochemistry and battery chemistry; BMS; Modeling', '[Full Battery Chemistry and Cell Design understanding and Experience],[High Volume Manufacturing Process and Equipment Experience], [Accurate Cost and Time Planning for R&D to Pilot to Manufacturing]', 'Open minded, technical expert, negotiator', 'Leadership Communication Empathy', 'Curiosity; Perseverance; Teamwork', 'Data analysis, coding,', 'Critical thinking; data visualisation and analysis; depth and breadth together', 'Programming; electrochemistry; mechanical design', 'Skill1: Firmware Controls development; Skill2: Battery Testing; Skll3: Cell Testing; Skill4:  Test Pipeline Knowledge; Skill4: Charging Test Knowledge', 'data analysis; quality control; hands-on know-how', 'Electrochemistry fundamentals', '[Process Engineering]; [Chemical Engineering]; [Electrode Fabrication]', 'Skill 1: systems approach with scientific methodologies; skill 2: both chemistry and engineering process R&D; skill 3: safety testing and mitigation analysis', 'Material Synthesis; Cell design; cell modeling', 'Mass production related skills such as the knowledge to setup the production line, the knowledge of how to improve the yield in the short time frame and how to find the best match between the equipment and raw materials', 'Simulations; Electrical Circuits; Test Plan Design', 'Lean Manufacturing for Cell Production;', 'Software engineering, product marketing, market optimization experts', 'Product management', '[Battery modelling ] [project management] [market knowledge]', nan, nan, '\"Fundamental knowledge of the electrochemical kinetics\", \"Experience\", \"Global economic status\"', 'Project management; operations experience (in commercial sized manufacturing plant, scale up experience', 'communication, power electronic knowledge, compliance knowledge', 'Problem solving; communication; experience', '[technical knowledge beyond a very specialized field]; [market knowledge beyond cherry-picked studies and forecasts]', 'I can make cathodes and anode materials for Li, ]Na, and Zinc-ion batteries', 'Reactor / Scale-up engineers, equipment engineers', 'interdisciplinary (mechanical + electrical skills), high voltage design knowledge, excellent general design skills', 'Soft Skills', 'Problem solving; collaboration, manufacturing', 'Data science, process engineering, failure analysis', 'deep work, experimental design, reasoning', 'chemistry, electrochemistry and fabrication', '(1) hands-on experience in battery manufacturing at the MP scale (2) Difference between testing for R&D vs production, (3) how to balance between \"science experiment\" vs \"something the customer cares about\"', nan, 'Mechanical design', '\"Communication; collaboration;team work;AI\")', 'data analysis, electrochemistry, systems engineering', 'Process optimization, system engineer, manufacturing engineer', 'Battery Integration, Practical Thinking, Regeneration of electric power', nan, '1. PLC programming ,in depth knowledge of battery management system and quick decision', 'JMP (data analysis, experimental design), CAD, project management', 'Electrolyte development; Simulation and battery design', 'Certification; Specification; Procurement', 'SOH prediction; thermal management; BMS', 'Materials science expertise, battery management system (BMS), and data analysis', 'Manufacturing, Data science, Electrochemistry knowledge', 'flexibility  in thinking;  strategic action; endurance', 'Manufacturing, Manufacturing, Manufacturing', 'Technical understanding, result oriented, drive', 'Cell knowledge, battery project experience with big OEM, supply chain', 'foresight; adaptibility, resilience', 'Scale up engineering', 'Innovation, project management, teamwork', '[manufacturing]; [design-to-cost]; [system integration]', '[Ability to forecast price trends],[Technology trends]', 'data science knowledge; AI based algorithm capability; battery design expertise', 'Thermodynamics, coding, guesstimating', nan, 'Skill 1; Battery material design for the high storage capacity', 'electro-thermal simulation, soild-solid interfacial chemistry, solid polymer electrolyte', 'Leading a technical team with emotional intelligence,, failure analysis standardized in residential battery industry(honesty versus marketing, could help clear up issues to standardize, sexual harassment trainings for technical managers', 'Technology transfer; Cell reliability analysis; Process engineering', 'electrochemisty, process engineering, BMS', '[Critical thinking]; [Market-driven thinking]; [Strategic analytical capability]', 'Innovation; Business Development; Cross-cultural Understanding', 'Predicting battery deterioration and failure', nan, 'Artificial intelligence; Analytical Development; Team Management', 'System Integration', 'characterization, manufacturing, recycling', 'Process Engineering, Product Management, Technology Development', 'Flexibility, Knowledge, Qualification', '\"Clear communication with chinese suppliers\";\"understanding ageing of batteries\";\"system thinking for fast charging\"', 'Explaining complex things in a simple way; data handling and manipulation; production process knowledge', 'data analysis, electrical engineering, programming', 'Maintenance engineers, skilled production operators, skilled process engineers', 'Electrochemistry; knowledge about real batteries; programming for data processing', 'Understanding of manufacturing and data visualization', 'Electrical/power electronics systems development, next generation modeling (I.e beyond porous continuum modeling), leadership/organizational skills', 'Adaptability; polyvalence', 'Cell Modeling; High Power Electrical Engineering; Mechanical Engineering', 'Problem solving, communication', 'Technical know how; flexibility; market knowledge', 'Automation and AI integration into the manufacturing process; handling hazardous materials and chemical engineering', 'Pilot line operation and scaling; testing protocol; customer development', 'Creativity; interdisciplinarity; communicativeness', 'Technical project/program management; Business acumen', 'Coding; modelling; cell assembly', 'Pragmatism; cost analysis; Chinese language', 'Technical writing;  Engineering economic analysis; Industrial engineering & design for manufacturability', nan, 'Hollistic understanding, material, battery regulations', 'domain expertise; ability to construct BMS; willingness to keep up with industry developments', 'Curiosity, team spirit', 'Data Science; Cell physics; metallurgy', nan, 'Fundamental materials science knowledge; fundamental materials processing knowledge; data science applied to materials science.', 'All types of battery manufacturing expertise (from cathode active material to formation), failure analysis for yield improvement in manufacturing.', 'Communication, Getting things done, working under pressure', 'safety; cost optimization; economy of scale', 'Equipment design, process optimization, facility design and implementation', 'Lean manufacturing, Robotics, Logistics', 'Industry experience; data processing / data analysis; vendor management.', 'battery pack design, systems engineering, cross-functional teamwork', '\"Battery design\", \"Cell research\", \"BMS\"', 'electrochemistry background, materials science, data analysis', 'Lean six sigma; Electrochemistry, Presentation/documentation', '\"Data Driven Decision Making\", \"IOT Base Decision Making\", \"Communication soft Skills\"\"', 'battery testing results interpretation; more time efficient battery testing methodologies; interaction between chemists and engineers', nan, 'Modeling/simulation, algorithms, testing', 'material synthesis, material analysis, electrochemistry', '[CAD Skills]; [production experience]; [project management]', 'Data Analysis; Leadership; Fast-paced learning', '[Basic electrochemistry];[Impedance spectroscopy]', 'scaling technology; battery recycling; battery manufacturing', 'Digitalization; Quality; Logistics', '\"[Analysis];[characterization];[Understanding]\"', 'System integration, mechanical engineering, chemical engineering', 'High volume manufacturing experience; experience with high volume manufacturing tools - how they work, how to spec them, Digital Architecture for a battery factory... MES/SCADA', 'R&D engineers', 'Modeling experience, quantitative analysis', 'Comprehensive knowledge of cell design and end to end process interactions, process control, understanding what a comprehensive cell safety evaluation really needs to include.', '[communication];[controls oriented modeling];[physics intuition]', '[Compliance]; [Functional Safety]; [Testing]', nan, 'Electrical Engineering, Town Planning, C Suite', 'Diverse Mindset; Interdisciplinary Communications; Public Engagement', 'Electrolyte, Testing Protocol, New Materials', nan, '(endurance); (problem solving thinking); (specialist knowledge))', 'Open Minded, Future problem solves, passionate about decarbonization.', 'communication, digital, technical', 'Analytical Skill; Knowledge Sharing; Mutual Understanding', 'Cross department collaboration, process improvement, efficient record keeping / data entry', '\"Understand the battery production process; Have electrochemical knowledge; Understand market dynamics and influences\"', '[Competences within the specific manufacturing processes.] [Emission/effluent abatement systems and environmental control.]', 'Curious, level-headed, adaptable,', 'Surface analysis knowledge; Material characterization', 'Domain knowledge, Coding and data interpretation', 'data science, battery recycling expertise, circular economy expertise', 'Curiosity; Agility; Patience', 'knowledge in electrochemistry, material chemistry, system design', '[Chemistry];[Battery management systems];[Product & system design];', 'Persuasion; Synthesis of divers information; Production know-how', '[global strategic view] ;[real compromise for action against climatic change]', 'materials, electrochemistry, electric', 'Manufacturing, Upscaling, cell design', 'integration; electronics, electrochemistry', 'Proactivity, ambition to learn and, hunger for efficiency.', 'Supply chain knowledge; Ability to work in a team; Coating knowledge', 'Problem Solving, Coding, Material Characterisation', '[Material Science and Electrochemistry expertise]|; [thinking out of the box, global mindset]; [biochemical bio-nature data integration]', nan, 'Electrochemical knowledge, program management, data analysis', 'Lithium solid state battery Expert', 'knowledge-experience of real behavior, operational experience in the field, background', 'Innovative mindset(thinking out of box), Deep knoledge on Energy Material Design and Engineering, Cell Design', 'Delegate decisions downwards, not upwards, allow innovation.', 'manufacturing knowledge; performance analysis; system engineering', nan, 'Battery chemistry expertise, holistic & logical thinking, understanding product safety', 'Cell Design, Battery Systems, BMS', 'electrochemistry; characterization; cost engineering;', '[process engineers - manufacturing]', 'taking initiative, industry network, organized process building', 'Cross-pollination. (The ability to know battery chemistry as well as things like manufacturing, robotics and soft skills like supplier relationships.)', 'data analysis; time management; understanding of chemistry', 'Communication, Accountability, Problem-solving', '[consulting in VUCA times]', 'Experience', 'Materials Synthesis, Application of Statistics, Cell construction', 'Understanding new technologies; Critical thinking; Electrochemistry knowledge', 'Analytical thinking; Quality awareness; Ability to lead', 'python, instrumentation, communications skills', 'balance of technical and commercial; electrochemical; cathode', nan, 'Battery Safety skills / knowledge, R&D knowledge, innovation', 'Electrochemistry, chemistry, physics', nan, 'flexibility', 'Massive-scale manufacturing; chemical hazard management; thermodynamics', '[adaptability];[resilience];[problem solving]', 'Logistics, manufacturing integration', 'Skill 1:market and value chain knowledge, Skill 2: business development , Skill 3: coordination', 'electrochemical testing; programming, data analysis', '[Skill 1: system level understanding is under-appreciated. ][Skill 2: Education with electro-chemistry degrees is under-appreciated]', 'Cathode active material manufacturing, quality control testing, electrode manufacturing', 'resilience, adaptability, iniciative', 'Background on technical workings of lithium ion battery; Cell manufacturing methods; Cell evaluation methods', 'Data Analysis; Modeling; communication', 'Communication; Interdisciplinary Competences; Chemical Background', '1) communication 2)collaboration 3)empathy', 'Controls(bms), material discovery (ml AI)', 'NPI, sales, statistics', '[Statistical analysis]; [large cell manufacturing]; [manufacturing processes]', 'Machine learning, modeling, characterization testing', 'digitalization and simulation; process know-how; how to scale fast successfully', 'Battery trouble shooting; battery knowledge; adhesive knowledge', 'relationship development, key people location, project management', 'Cell design, Process and material selection', 'Technical Competence, Account management, Manufacturing knowledge', '1-Methodically run statistically designed experiments.', 'the ability to transfer R&D lab results to pilot and production; ability to communicate/facilitate the communication between people with different backgrounds and education level. Willingness to get hands dirty.', 'flexibility and ability to deal with change', 'multiscale-simulation, scale-bridging, interface chemistry', 'Coding, practical lab skills, soft skills', 'control, models, systems', 'Product design, industrial design, marketing.', nan, nan, 'Testing; Simulation; Analysis', nan, 'Strategic Planning; Communication;  Building partnerships', 'Testing and Validation, Simulation, Data Analysis', 'Sales; Technical Aptitude; Flexibility', 'Cell Analytics , BMS Hardware, Cell Chemisty', 'Battery chemist, mining expert, battery manufacturing engineer', '[Material Engineering], [Battery Testing], [Battery Safety Design]', 'Networks, Abilities to speak around technical topics,  ready to fast changing', '(1.Problem identification) (2. problem solved)(3. Customer time value)', 'Strategic Planning, Mechanical Design, Manufacturing Technology', 'Cell modeling Cloud Engineering Algorithms engineering', nan, 'Electrochemical Engineering and Materials Science, Battery Management Systems (BMS) and Data Analytics, Sustainability and Recycling Expertise', '[testing]; [diagnostics]; [cell chemistry]', 'Cell cycling, electrochemical modelling, 5+ years experience', 'Modelling; Fabrication; Design', '[1: Efficient planner], [2: Cell Engineering], [3: Problem Identifier]', 'Chemical Engineering, Materials Science, Equipment Engineering', 'Dumb it down, Communication, HAZID', nan, 'Science Knowledge, Creativity, Team Player', '[Competency] [Curiosity] [Fearlessness]', 'Process Engineering, Product Development, Supply Chain Analysis', 'Electrochemistry, materials, personal skills', 'curiosity', nan, 'Electrochemical modeling; Recycling expertise; AI/ML integration', '[manufacturing optimization], [data analysis], [failure mode analysis]', '[communication]; [problem solving]; [adaptability]', 'Science knowledge; Equipments proficiency; Networking', 'Technical Expertise; Technology Leadership', 'Opened to change', '[Processing/manufacturing seem to be the highest demand]; [electronics engineering]; [R&D seems under-appreciated in industry]', 'multidisciplinary; adaptability; customer based thinking', 'Technical acumen; Board relationship management', '[technical understanding], [Soft skills]', 'Most in demand is different from overlooked… underappreciated skills are data analytics; science communication; mentorship and community building', '[Cathode material]; [cell design]; [Simulation]', 'Technical Communication; electrochemistry', 'Material Science; Sustainable approaches; Data analytics', nan, 'Stakeholder management; communication; High Voltage technical expertise', 'Corrosion; welding; simulation', nan, 'Automation, mechanical engineering, material science', 'interpretation of data, statistics, operational experience', 'Skill 1: Practical skill, Skill 2: Computer skill, Skill 3: Marketing skill.', 'Process/performance relationship', '[High voltage battery safety]; [design for production]; [industrial cleanliness]', '[Data science]; [Power Electronics]; [Root cause Analysis]', '[quality engineer] [slurry mixing technician] [ electrode coating technician]', 'Electrochemistry; coding; storytelling', 'Openmindedness, scientific communication, attention to detail', 'need better articulation between university and industry', 'resilience, creativity, humility', 'Skill 1 - Fire Engineering, Skill 2 - Environmental Protection, Skill 3 - Engineering Design', 'Functional Safety; System Engineering;', 'IT', 'Equipment manufacturing engineering, battery engineer,', 'Fire response and mitigation. Just the one', 'modeling, testing, quality control', 'Cell experience; Material experience; Upscaling experience', 'Automation Engineering; Process Engineering, Battery Design Engineering', 'Data science,Leadership and Time Management', 'FMEA, Battery expertise', 'Operational knowledge, contract interpretations', 'manufacturing engineer; quality engineer; technician', 'Strategy, business development, safety professionals', 'Knowledge about battery manufacturing, Process engineering scalability, Process engineering tools.', 'First principle thinking down to battery material design or manufacturing process; Ability to explain electrochemistry in plain words that everyone will understand; keep health and work really hard', 'electrochemistry, manufacturing, data analyses', '\"[Material synthesis];[Dry electrode fabrication];[Battery cell data analysis]\"', 'Data management; data analysis; manufacturing', 'Problem solving; technical; project management', 'Process engineering, manufacturing-related, modelling', 'Creativity, Ability to Think Outside the Box,  Importance of Solid State Chemistry', 'Programming; AI; ML', 'thermal management; cell modeling; module and pack design', nan, nan, 'electrochemistry, people skills, simulation', nan, 'Thermal , testing and materials knowledge', 'Markets, interconnection', 'Battery modeling, AI, Python', 'Electrical; electrochemical; regulatory', 'Battery Pack Engineering; Firmware/algorithm development; Thermal Event management', 'System integration, thermal management, electro-chemistry', 'Application knowledge; thermo dynamic understanding; supply chain', '(Cad) thermal management system , bms', 'Modelling, Data Analysis, Being updated with recent research', 'battery management systems engineer, alternate battery chemistries, computational design of materials', 'Electrode fabrication', 'HV design;Electrothermal Modelling;BMS development', 'ability to learn, open minded, analytic mind', 'Understanding key factors in battery (misbalance, effect of impedance variation on whole bandwidth), understanding of swelling, understanding measurement and modelling of cell, understanding of venting.', 'Testing, design and development engineers, modelling', 'Simulation, Design, Testing', 'communication, networking', '[cross-disciplinary collaboration]; [communication]; [VUCA Robustness]', 'tallented; hard-working; well-organized', 'Couriosity; Perseverance; beeing a Teamplayer', 'Materials Science', 'Cell manufacturing; BMS design; Pack assembly;', 'Problem solving; data analysis; safety', nan, 'Problem solving, Doe planning, failure analysis', nan, 'English; Chinese; Engineering', \"skill 1 - understanding customer needs (not wants), skill 2 - problem solving flexibility (if your idea isn't working drop it!), skill 3 - listening to your customers AND your internal team members\", 'Critical thinking, process development, scale-up', 'Battery modeling; Battery safety; Extensive battery testing;', 'diagnostics; integration; data origination', 'Failure modeling; battery physics/chemistry modeling; field data analysis', '[Electrochemistry][datascience][manufacturing system]', 'Material Design and Development, Optimization, Advance knowledge on Material Softwares AI ML and Data Science', 'full cell design; leadership experience; integrated system experience (ERP, MES, etc.)', nan, 'Scale up, manufacturing', 'modeling batteries, power electronics, thermal modeling', nan, 'BESS integrator, battery testing and R&D ,', 'Experience in Electrode coating, Cell design experience, Business Development Closing skills', 'Manufacturing Engineers, Controls Engineers, People Managers', 'Vendor/consultant evaluation; fire safety/standards expertise; commissioning expertise', 'Manufacturing,process engineering,electrochemistry', 'Focus on solutions for disposing of and recycling lithium or other chemical batteries', 'Data analysis, electrochemistry, material science', 'Commercial skills, manufacturing plant personnel, automation', '1. Battery Rework Technicians, 2. Battery Quality Engineer 3. Battery Data Analyst', nan, 'Understanding of Lithium Chemistry, Its Deterioration , Battery Management System', 'Project Management; Leadership; Supply Chain Management', 'Data analysis, EIS techniques, software development', 'Cathode Material synthesis, cell assembly, crll', 'operations, user-centric design', 'Prioritization, communication, managing expectations', 'Innovation, hard work, knowledge', 'Application knowledge, production knowledge, material knowledge', 'Data Science; Experiment Design; Python', '[Battery chemistry knowledge], [Future tech understanding], [Project management]', 'Customer support for systems in operation; Field service (during maintenance); Oversight in complex BESS application behind the meter', 'System Architecture development; requirement decomposition; thermal propagation prevention design', 'Equipment Commissioning and Tuning', nan, 'Equipment operation, simulation and coding', 'Research; thermal management; CAD', 'Cell manufacturing, process engineer', '[AI];[electrochemistry];[work overtime]', 'Critical thinking; broad experience;', 'electrochemistry, materials characterization, battery assembly', 'Regulatory Compliance; Battery synthesis; Engineering', 'Machine design for new technologies; process development for industrialization of new tech', 'Equipment design, process development, product evaluation', 'systems engineering, data analytics, technicians', 'Scale-up, process development, automation', 'Web handling; Process development; Material development', 'Process engineering, research acumen, electrochemistry, big picture thinking', 'Industrialization; value engineering; application engineering.', nan, '[flexible knowledge], [driven], [practical]', 'Meticulous, team-player, problem-solver', 'manufacturing know how, battery analytics, R&D', 'data analysis, materials characterization', 'Formation process optimization; manufacturing equipment bring up', 'Technical understanding, electrochemical background, testing understanding', 'Material Science and Engineering, Battery Simulation and Modeling, Electrochemical testing and characterization', '\"[Understand the Concept]; [Implement that Concept]; [Improvise that Concept]\"', 'Process integration', 'Data analysis, process development, manufacturing', 'Explaining how batteries work in general terms; understanding of how things work with battery manufacturers; knowledge of battery system (cell + BMS) to understand system level performance', nan, 'Analytics, Energy Engineering, Chemistry and its Applications', 'Experience working on large battery projects; electrochemistry coupled with programming skills; chemical engineers with a battery background', 'Research and Development, Electrochemistry, Data Analyst and Operations Management', 'Flexibility, collaboration, drive', 'Battery materials science; Chemical engineering for battery materials; Cathode manufacturing science', 'Skill 1 Think outside of the box Skill 2 Flexable Skill 3 Great memory thing change fast', 'Team oriented; flexible; self-motivated', 'Policy/regulation expertise; chemical engineering; project management', 'Understanding of how a business works, communication skills', 'organic and inorganic chemistry;battery cell design;  manufacturing expertise', '[Cell Design] [Cell Manufacuring] [Electrode Coating]', 'Talent sourcing/HR management', '[communication][ enthusiasm][knowledge]', 'Manufacturing ramp up, lithium material knowledge, machine altering knowledge', '(communication skill)(AI)(business development)', '[Mechanical engineering], [data analysis], [organic chemistry]', 'Battery Management Systems Operator and Technician, Energy Storage Grid Optimization, Manufacturing technician', 'HV safety,', 'Production; lean manufacturing; quality', '\"technical knowledge\"; \"Management\"; \"Transformational Mindset\"', 'Curiosity; Commitment; Practicality', 'Battery pack design and management; battery modeling; battery testing', 'Data Analysis; Simulation; Manufacturing', 'Application engineer, electrical engineer, electrochemist', 'Creative thinking; entrepreneurial outlook; attention to details', 'Manufacturing Engineers who understand battery technology, Experienced top level scientists with a wide range of battery tech knowledge, Cell safety experts..', 'Design, testing and regulations', 'technical expertise, understanding numbers', 'Synthesis; Electrochemistry; Troubleshooting', 'agility, curiosity, open minded', 'Battery basics, safety/regulatory, team work', nan, 'Safety, Cell Fundamentals, Failure Analysis', 'Development, O&M, legal', 'Electrochemistry, Research skills, Math deep knowledge', 'Data analysis; electrochemistry; business analysis', 'Resilience, vision, patience', 'Critical thinking', 'Supply chain; basics of electrical engineering; CAD', 'Materials science, electrochemistry, data analysis', '[communicating with respect, i.e. soft skills]; [fundamental electrochemistry]; [data handling]', 'python, thermal runaway testing, materials science', 'process development, supply chain development, relationships', 'Self starter, critical thinker, flexible', '1- Understanding of battery dynamics; 2- Working on protoypes not only computer simulations or digital twins; 3 - Cost / Performance analysis', 'Cross discipline understanding (i.e. Mechanical, Electrical, Software); Proper sizing of packs per application, not generic usage; More innovative BMS development', 'Data science', 'electrochemistry, process engineering, Data science', 'electrical test/reliability; multi-physics modeling; mechanial design', '1) Communication 2) problem solving 3) processing', 'Willingness to embrace new ideas, Communication skills, continuous learning', 'Chemists, engineers and marketing', 'Electrochemistry, manufacturing', 'Systems thinking, lean scaling approaches, instrumentation engineering', 'Chemical engineers, project managers, commercial specialists', 'Previous hands-on experience (especially in manufacturing); network; scientific/technical rigour', 'Process improvements, Battery Management Systems, Research and Development', '1) simple working of battery education is lacking which seriously needs focus and R n D with scenarios as per country specific needs', 'Material science, BMS simulation, Data Science', 'Design, System Engineering, Testing', '[statistical DoE in R&D][manufacturing engineering][non-academic R&D]', 'Problem recognition skills; Analytical skills; Imagination and creativity', 'Eagerness to solve a problem', 'Modeling, chemical handling/lab skills, machine learning', nan, 'System knowledge, visionary perspective in inmature industry and collaboration', 'DFT, Cathode material synthesis, electroanalytical evaluation.', 'Electrochemistry, Automation and AI', '\"[electrochemistry]; [battery materials]; [cell design]\"', 'technician, developer, engineer', 'Problem solving', '[Skill 1]: Analysis of Batteries based on use case scenarios, [Skill 2]: Developing new type of electrochemical materials for state of art  battery cells, [Skill 3]: Software development for monitoring battery cells safety and health.', '[contractual specifics related to BESS]; [AI in the service of battery optimization]: [data analysis and modeling].]', nan, 'Experienced process engineers and experience cell developers who are capable to develop a product for market readiness. This is more than just PhDs in electro chemistry.', 'Production of cells, scale up, purchasing', 'Cost Modelling, Supply and Demand, Technical', 'Electrochemistry; materials science; process engineering', nan, 'Electrochemistry, team working, data analysis', nan, 'Technique, Supplier, Comonalization', '[Understanding MES]; [Understanding \"Toyota Way\" production]; [Product design validation] [', 'Technical knowledge, following trend, analysis on cost structures', 'Battery manufacturing expertise, battery chemistry expertise', 'Commercial engagement skills', 'Understanding of markets and revenue; understanding of the main processes of how to bring projects live; ability to learn new things/ not being scared of technical bits', 'integration skills that can optimize battery performance', 'technical battery knowledge; battery experience; quick learning', 'Battery Ageing; Non destructive testing; Battery inventory management (Battery Passport)', 'Physics; chemistry; realism;', 'relationship management, realistical view, economic skills', '[electrochemical modelling]; [degradation prediction]', 'R&D, battery analysis, battery engineering', 'market research and insights; agile and dynamic adaption with technology trend; good communication skill with people from various industries', 'Good knowledge of areas adjacent to your specialization in the battery value chain; having technical and managerial skills; understanding the complete battery value chain', 'technical knowledge, vision for the future, empathy', 'Curiosity, rigor, teamwork', 'Predictive maintenance including fill service O&M management, PPA management, project development', 'Formation and Aging process engineering ; Gigafactory Industrialization ; Internal HR', '“[”', 'coding; leadership; management', 'materials development; process engineering; cell design and integration', 'Ability to work with uncertainty, Grit, Persistence', 'Experience, Competency, Execution', 'Fabrication/Process/Manufacturing; testing; data analysis and reporting', 'Battery/cell testing, electrode manufacturing, quality improvement engineering', 'Merge & Acquisitions; Price analysis', 'The top skills in demand include battery design, BMS and control units designs', 'battery manufacturing process knowledge; supply-chain coordination; regulatory shaping', 'Electrochemistry, Data Visualization, Data Analysis', 'Familiarity with power;Protocols;Analytical', 'Battery Knowledge, Operational Safety, BMS', nan, 'Flexibility; Achievement Drive; Collaboration', 'Data Analysis Tools, Depp understaing, marketing info', 'market knowledge; scale up; honesty about results', 'Creativity, Solid academic background, technical understanding', 'Electrochemistry Knowledge; Flexibility; Thinking outside the box', '1. Electrochemistry 2. Metrology 3. Material Chemistry', 'Experience', '\"[Process scale-up]; [IP Legal Expertise]; [Process Development]\"', '\"Communication; Collaboration\"', nan, 'Clear communication, electrochemistry knowledge, fundamental battery knowledge', 'chemistry, electrochemistry, engineering', 'data processing; fundamental science', 'Product Knowledge; Experience; Pay', 'Efficent experimental design; developing business cases given high initial development costs; Pattern recognition from small signals', 'cell manufacturing, strategy, policy', 'Vehículos; Marina', 'Deep understanding of cells (performance in the field, failure modes, manufacturing realities); Controls Engineering for factory tooling; coating development', 'Design for manufacture; Production know-how; Experience from previous projects', 'Electrochemical engineering. Process engineering. Procurement', 'education, communication, willingness to learn', '[interaction with machines/IT systems]; [data analysis]; [experiment design]', 'what a stupid question ! the answer depends on the exact role. every role required a different skillet.', 'adaptability, understanding of fundamental mechanisms and problem solving', 'operational strategy, embedded systems engineering, operational finance', 'Technical, Communication, Collaboration', 'Skill 1: material science Skill 2: battery design Skill 3： problem solution skills', 'Application engineering; System engineering; PV engineering', 'Hard technical skills; communication skills; programming skills', '[data analysis and characterization]; [cell prototyping]; [pyhton]', 'Innovation capacity; electrochemistry; AI modeling', 'Technical Business Development', 'Sales, Storytelling, Knowhow', 'Ability to handle uncertainties; Ability to fix complex problems that no one has handled before; ultrasonic laserwelding', 'data analysis, electrochemistry, material science', 'Production scale up; Software', 'Domain expertise, determination, grit', 'Statistical analysis, root cause analysis, first principles thinking', 'endurance; statsistics; creativity', 'Critical thinking', nan, nan, 'Material Science, Electrochemistry,  Electricity markets,', 'mineral exploration, value driven leadership (vs. bottom line emphasis), and regulation fast-tracking', 'agility, technical skills, intellectual curiosity', 'systems engineering,', 'Language and communication across sectors, B2B Marketing, Knowledge of battery tech outside R&D and academia', 'skill 1 cell testing; skill 2 cell design; skill 3 manufacturing process', '1. Translating an R&D product to a commercial one. 2. Selling that product to prospective buyers 3. Operations leaders/Managers for facility builds and ongoing management', 'Cell technology; pack level design and validation; solving cold weather charging', 'BMS; Recycling; Data analysis', 'computational skills, battery modelling, data analysis', 'Battery modeling,Testing and characterisation', '[Manufacturing]; [Quality Control]; [Cell Testing]', nan, 'Skills: Hybrid knowledge of 1. CSA/MEP design & buildability, 2. Clean & Dry rooms design, and Process integration.', '[engineering]; [designer]; [cyber-security]', '[landowner relations][town planning app process][local community \"social license\"]', 'Negotiation; Supply chain, New Technology', 'Inovation ; collaboration ; projection', 'Battery packs design, BMS testing, ANSYS', '(Techno-Economical capability for battery storage project) (Leadership for concept to commissioning of battery storage project) (Battery R&D)', 'cost engineering, production engineering, safety engineering', '[speaking English], [holistic technical knowledge], [understanding regulation]]', 'understanding of the global chain of valor; electrochemical expertise; basic physics and chemistry common sens;', 'not sure at all', nan, 'strategic decision; workforce retention; manufacturing expertise;', 'Application engineering; strategic planning; technology development', '[skill1 Reducing costs];[ skill2 accelerating developing cycle] ; [Skill 3 maintain safety]', '[battery modelling];[good communication skills];[python/C++]', 'innovative; disruptive; technical', 'multi-physics; innovation minded; fast move minded', 'System know how; analog know how; model based design', '[In-depth electrochemistry]; [Machine Learning data science]; [bridging academic research and industry]', 'Skill1 cathode materials preparation skill2 cell fabrication skills cell testing', 'Product knowledge, Competitive space, industry direction', 'Breadth of knowledge; persistence; dedication', '[Electrochemistry]; [cell engineering]; [advanced cell testing]', '[Knowledge]; [Proficiency]; [Networking]', '\"Soft\" skills, like strategy', '[analytic skills] [writing skills] [ communicating skills]', 'understanding customer needs; sales; broad tech/chem knowledge', 'supply chain', 'Skill 1–Electrochemical testing setup. skill 2- DOE, skill 3-failure analysis', 'leadership; communication; planning', 'Advanced Data Analytics for Battery Optimization; Expertise in Battery Recycling and Lifecycle Management; Supply Chain Management for Critical Battery Materials', 'technical sales, solutions engineering, ai general', '[Experience]; [Problem-solving ability]; [Technical proficiency]', nan, 'EIS; Microstructure Effects; Organic Chemistry', 'Battery Quality with technical expert electrochemsitry influce with design, process. Strategy for technology selection focus applications', 'Experience with synchrotron based operando analysis, DFT Simulation, advanced characterization techniques', 'technical and chemical understanding', 'Electrochemical analysis; manufacturing process design; battery testing', 'Sourcing, marketing, PR', nan, 'Interpersonal, economics, contracting', 'Python, electrochemical testing, crystallography', 'Project/Program Management, Analytics and Supply Chain Planning', 'Open minded, flexibility, efficiency', nan, 'Generalist, Data engineering, Process engineering', 'Market intelligence; Long term strategy;', 'Fire safety knowledge, region specific planning and regulations knowledge, and knowledge in the pre-contract stage of projects, where support is required to get contracts aligned and agreed upon.', 'chemical knowledge; material process knowledge; teamwork', 'teamwork; communication; presentation', '[Technical Project Management]; [Leadership]; [Strategic Roadmaps]', 'keeping your mouth shut, when your employer does bad things', 'Battery Repair Technician, Battery Quality Specialist, Battery Charge infrastructure engineer.', 'Data interpretation; electrochemistry; surface knowledge', '[Electrochemistry and Battery Chemistry]; [Battery Management Systems (BMS):]; [Advanced Manufacturing and Automation(Conveyor system)]', '1. Go through all the hurdles. No short-cuts allowed. 2. Software desin skills (at management level: strong understanding). 3. Ability of interpreting results and evaluating risks.', 'Adaptability, team work, staying on task', 'clear communication, cell-level design, BMS tuning', '[social license]; [grid connection]; [town planning]', '1.Training 2. Industry knowledge 3. Consistent follow through', 'Electrical skills, Chemical skills, Cyber skills', 'Design, Application and validation', 'Knowledge; Fabrication; Testing', '\"Market analysis; customer relations; strategy\"', 'Research; Validation; Technical Skill', 'Renewable energy,  life cycle, toolkit', 'Electrochemistry, Post-mortem, electrode materials', '1. Electrochemical Expertise, 2. Materials Science Knowledge, 3. Electrical Engineering Proficiency', '1. Battery Chemistry, 2. Battery Project Management, 3. Battery data analysis and Simulation tools.', 'skill 3', '[MATLAB] [COMSOL] [python]', '[cell assembly and testing]; [Material Synthesis]; [Material Characterization]', 'Product design', '[problem-solving]; [teamwork]; [electrochemistry]', 'Design; assembly; formation', 'Knowledge about battery design; knowledge of relevant industry standards; knowledge of other components interacting with battery such as thermal, electrical, mechanical, electronics', 'Design and simulation, Research, problem solving skills', 'Cost engineering, autonomy, agility', 'technical knowledge, recycling knowledge', 'simulation; material design; prototypation', 'collaborate in teams with efficiency and good communication', 'Electrical engineering; diagnosis; inorganic chemistry', 'Electrochemistry; Market knowledge; Innovation management', '[Battery Life Cycle Analysis],[Advanced Battery Management System Design],[Battery Dynamic Modeling and Simulation]', 'Electrochemistry; Functional Safety; Problem solving', 'Cost Management; production planning; business management', nan, 'Flexibility; Resilience; Adaptability', 'failure mode analysis, degradation mechanism, life prediciton', 'Technical & scientifical mastering / Forward-looking vision / Knowledge of markets and business applications', 'Electrochemistry, Materials Science/Engineering and scale up', 'ability to deliver project, big picture understanding of the market, scaling', 'Flexibility, Adaptability, Long-term view', 'Experience, flexibility, innovation', 'Environmental Knowledge; battery management systems; metallurgical/mineral processing', 'Market knowledge; Supply Chain;', 'Group management skills, codding, grant writing', 'business skills', 'Innovation; Cost; Sample', 'Materials science, characterizations, process engineering', 'understanding the relation between material, tolerance trains, and the impact on scaling the production to a fully automated mass assembly that can be copy paste. You need to include your complete value chain from your own process  over the Tier1,2 untill the material supplier.', 'Expérience, Agility, Lean Management', 'Mass manufacturing, electrochemical diagnostic, supply chain', 'Manufacturing scale-up', 'Really depends on the role (and these are more characteristics than skills), but generally: domain expertise; network; passion', 'Chip designers, Firmware coders, Algorithm development', 'Process Development; Manufacturing Validation; Integration and Automation', 'Scale-up; synthesis; data analytics', '[electronics];[bms];[data science]', 'problem solving, system thinking, honesty', 'FMEA; DFM; Scale-Up', 'Cross-functionality, cross-functionality, cross-functionality', 'Critical thinking, creativity, science communication', '\"[Engineering]; [Project Management]\"', nan, 'metrology; sensing; physics technicians', 'BMS knowledge, battery cell experience (safety and performance), power electronics', 'Project leadership, electrochemistry, communication', 'Network Time spent intorno this business Technic Knowledge', '1. Flexibility 2. Perserverance 3. Vision', 'Analog EE expertise; FW optimization; hazard analysis', 'Fuel gauge programming, manufacturing, testing', nan, 'battery applications, emerging chemistry, business modeling', 'External stakeholder management; setting internal strategy', 'Chemistry, Code and Physics', 'Cell modelling;BMS coding;ai integration with battery', 'Modeling; optimization; creativity', 'electrochemistry, mechanics, communication', 'Technicians', nan, nan, 'Power electronics, economic, collaboration', 'Statistical knowledge, practical knowlwdge about cell production process, creativity', '1. Understanding of how to match energy storage with solar and EV chargers. 2. Understand how to properly manage the KW stored for point of use or grid support. 3. Understand the true life cycle cost of joining energy storage with solar and EV chargers.', 'understanding why certain things are done in certain ways and what happens if you change them; ability to innovate rather than to follow; getting along with your managers and coworkers.', nan, 'Curious, flexible, patient.', 'software, maccor data, Python', 'Cell quality control, cell manufacturing scale-up (US battery manufacturing), cell mechanical design', 'understanding fundamentals; innovation; commitment', 'Industry knowledge, market trends, new technology knowledge', 'decision making; cost analysis;', 'AI/ML, DFT simulations, New technologies', 'Laser welding; Designing batteries; Sales', 'battery manufacturing expertise;electrochemical techniques understanding; integration of manufacturing ability with Ai and Machine learning', 'Technical knowledge; business models; financial-technical competence', '[Project Managment]; [Adaptability]; [Chemistry Expertise]', 'Cross diciplinary engineering knowledge, project management, comfort with uncertainty', '[hands-on industry experience][creativity][scale up processing]', 'Knowledge of electric markets; Understanding of the value chain / value stack for battery storage; ability to learn and adapt', 'Scientific reasoning; Knowledge of the field; Problem-solving', 'System Engineering, execution, compliance', 'skill 1', 'Understanding of electrical circuits; Statistics; Ability to get things done', 'Electrochemistry, business acumen ,Materials manufacturing', 'Good root cause analysis investigating; Broad technical familiarity with other diseplines; Material Engineering/Science', 'Battery cell engineering; process engineering; manufacturing', nan, 'Emotional intelligence, flexibility, perseverance', 'Interest in learning technology,Interaction with the industry, Understanding the overall supply chain and requierments by applications.', 'Sizing;Interfaces between components', 'Electrochemistry, Material science and process engineering', 'Embedded Software, Electrical Design', 'Customer insight, long term experience, battery specific technical knowledge', '(Testing); (Design); (R&D)', 'Engineering; Materials; Safety', 'Data analysis, cost modeling, electrochemistry', 'Characterisation electrochemistry data analysis', 'Problem solving, creativity, innovation', 'scaling up, impedance analysis, familiarity with technology', 'R&D; Supply Chain; Manufacturing', 'engineering, capex, commissioning', 'Skill 1: Cell Development, Skill 2: Battery Characterisation, Skill 3: Battery scale-up', 'Data analysis, knowledge of electro chemistry, understanding of the market', nan, 'Data Engineering, Computer Vision, Machine Learning', 'Simulation/Modeling, Failure Analysis (Dissection, SEM), Test Equipment Design', 'Manufacturing technology ; material supply chain ; new product integration', 'statistics, data analysis, experimental design', nan, 'Material processing; business leadership;', 'data analysis/statistics, automation and reliability', 'Computer programming, mechanical engineer, data science', 'Experience in industrialization and provision, 2. Data processing and analysis, 3. The ability to integrate various characterization method', 'Project management; Marketing; Fundraising', 'Materials; process; simulation', 'Thirst for knowledge, Systemic thrinking , Analytical problem solving.', 'Safety; quality; manufacturing', 'Cell design, Process development, Formation', 'Synthesis, EIS, CV', 'Fundamental knowledge of battery chemistry, Hands on experience for cell fabrication and Electrochemical analysis', 'skill 1 :  deep understanding of battery value chain 2. deep understanding of cell cathod active material 3) deep understanding of battery economics and geo politics', '[Electrochemistry];[Software];[Hardware];', '[Materials Chemistry]; [Electrochemistry]; [Intellectual Property Building Capabilities]', nan, '\"[Simulation study];[Material Research];[Battery design]\"', 'Battery design, Battery testing and validation and Application Engineering', 'Vehicle integration, courage, vision, business analytics', 'Transparency in methods, communication with leaders, critical review', 'Electrochemistry, simulation, manufacturing (scale up)', '[analitical mind], [curiosity], [adaptability]', '[capability to work with large datasets]; [deep understanding of battery physics]; [understanding challenges of each manufacture step]', '1.understand material handling2. Mixing and 3. To understand the whole process of the battery manufacturing', 'containment; contamination control;  mitigating waste', 'skill 2', 'Solids handling experience; pyrometallurgy; process architecture/operability', 'recognizing patterns; safety focus; system integration', nan, 'Critical thinking; technical battery knowledge; persistency', '[', 'Understanding Cells, Packaging,BMS algorithms', 'Cell design; chemistry; ELECTROCHEMISTRY', 'Patience, sharing knowledge', 'Decision making, strategy development, data analysis', 'Skill 1  power management skill 2: networking  skill 3 : chemical engineering', 'Manufacturing process scale-up', 'Broad skillsets; battery knowledge; data analysis', 'Technical; technical; management', 'skill 1 : Business acumen skill 2 : AI generall knowledge Skill 3 : automotive transformation to electrification direction ?', 'Manufacturing expertise', 'critical thinking: Battery Technician: Economics', '[Manufacturing at scale]; [Business strategy]; [Materials Science];', 'Power mgmt, safety,  R&D', 'Pack design; cell testing; process design', 'Understanding battery chemistry , degradation, market dynamics', \"1. Sales don't know how to sell it. 2.\", 'Failure mode and effect analysis, Electrochemistry and modelling, HV technicians', 'Network; experience; business development', 'Battery Systems Engineering; Software Development; Asset Management', 'Sustainability; Innovation; Systems Thinking', 'cell chemistry modeling, Machine learning, system modeling', '[Data Analysis],[DoE],[Physics]', 'anode electrode development, electrode/cell manufacturing (in the US), teamwork and collaboration.', 'Laboratory skills, Data Analytical skills, Communication', 'DOE, scale-up, data analysis', 'problem solving skills; creative and intuitive solutions; thinking outside the box;', 'Complex Problem Solving, Negotiation, Analytical thinking', nan, 'People skills, economics, project management', 'top three in demand (research scientist, project manager, battery manufacturing experience) overlooked - experience actually commercializing lithium solutions in non EV and ESS markets,', 'leadership; creativity; adaptivity', '1. Integrated(Hardware & Battery) 2. Quality Controls and 3. Performance data analysis using standard tools', 'Technology', 'Electrochemical Testing, Cell Fabrication, Data Analysis', nan, 'Knowledge of Electrochemistry/Battery Transport Phenomena; Structural/Mechanical Design; Industrial Design/Manufacturing Process Engineering', 'innovation on materials; data analytics; understanding of manufacturing workflow', 'Process, Data, and Test', 'Electrochemistry, Material Science and Process Engineering', 'quality control', 'Strategic cost analysis, networking, marketing', 'Teamworking; Innovative mindset; Dedication', 'Production;cell design', 'technical expertise, bms, management', 'Materials synthesis; Cell assembly; Electrode production', 'Thermal Management and Safety Engineering – Expertise in understanding, modeling, and mitigating thermal runaway and fire risks in batteries, especially for large-scale energy storage and EV applications, is critical but often underappreciated.  Battery Recycling and Lifecycle Analysis – Skills in designing for recyclability and performing detailed lifecycle assessments are becoming increasingly vital as the industry focuses on sustainability and circular economies.  Electrochemical Simulation and Modeling – Advanced computational skills to model battery behavior (e.g., charge-discharge cycles, degradation) are in high demand but often overshadowed by more hands-on lab expertise.', 'underappreciated: BMS solutions & battery algorithms; overlooked: mechanical deisgn', 'Cathode materials, anode materials, electroyte materials', 'Industry experience, electrochemistry knowledge, mechanical engineering knowledge', 'skill 1: Electrochemistry and Battery Chemistry skill 2: Sustainability Practices and Recycling Knowledge skill 3: Data Analysis', 'mathematically thinking; electrochemical analysis; modeling and statistical analysis', 'Flexibility; Aesthetic;', '[Ability to think outside the box]; [Combining chemical knowledge with DoE skills]; [Healthy failure culture]', 'Research; Testing;', 'none', 'cell testing, cell building, cell assembly', 'Safety knowledge; engineering/software; innovation', 'manufacturing', 'Problem solving and critical thinking; code-based data analysis; Detail oriented', 'Cell level performance and analytics; supply chain expertise and manufacturing knowledge', 'Adaptability; synthesis; innovation', 'Technical Understanding, Software skills, Chemistry', 'Process Engineering, Material Science, Program Management', 'Chemistry, process knowledge, experience'])\n",
      "('value_chain_in_demand', {'battery_cell': 554, 'recycling': 360, 'component': 270, 'infrastructure': 219, 'battery_pack': 194, 'product_mobility': 189, 'equipment': 186, 'software': 176, 'product_stationary': 142, 'product_electronics': 113, 'refining': 97, 'consulting': 78, 'mining': 51, 'other': 50})\n",
      "('value_chain_other_list', ['R&D', 'R&D', 'new materials', '', 'community engagement', 'Technical Training', 'Cell Development', 'Design Scale up', 'Install and Testing', 'research and development', 'R&D', 'efficient use', \"I don't know enough to answer this\", 'material discovery', 'Modeling (next generation)', 'Applying data science in materials science of batteries/cells', 'Innovation & new', 'Materials evaluation', 'R&D', 'Diagnostic/repair', 'Research', 'Cultural /Society', 'no idea', 'Waste collection and disassembly', 'health and safety diagnostics', 'Safety & Compliance', 'R&D', 'Product Innovation workforce', 'Sales and marketing', 'QA/QC', 'Testing facilities', 'another stupid question written by someone', 'who has no experience inside battery industry', 'geoscience skills for exploration', 'After sales/service', 'I have no idea', \"I've only been working for 1.5 years and I've personally only seen a tiny fraction of the value chain\", 'Sourcing', 'Link to academic discoveries and upscaling', 'none of this in the USA', 'Not sure', 'Cell modelling', 'Research & development', 'Leadership', 'Battery development', 'Process knowledge', 'battery business', 'Finance', 'All across. There are too many things that need different approach.', 'there is no shortage anywhere in China'])\n"
     ]
    }
   ],
   "source": [
    "res = analyst.summarize_census_skills_demand()\n",
    "[print(x) for x in res.items()];"
   ]
  },
  {
   "cell_type": "markdown",
   "metadata": {},
   "source": [
    "# Filter on subpopulations"
   ]
  },
  {
   "cell_type": "code",
   "execution_count": 13,
   "metadata": {},
   "outputs": [
    {
     "name": "stdout",
     "output_type": "stream",
     "text": [
      "22\n"
     ]
    }
   ],
   "source": [
    "filtered_list = analyst.filter_respondents_on(is_student=True,\n",
    "                                              gender='Female')\n",
    "print(len(filtered_list))"
   ]
  },
  {
   "cell_type": "markdown",
   "metadata": {},
   "source": [
    "# Summarize stats for subpopulations"
   ]
  },
  {
   "cell_type": "code",
   "execution_count": 17,
   "metadata": {},
   "outputs": [
    {
     "name": "stdout",
     "output_type": "stream",
     "text": [
      "('skills_in_demand', ['Data analysis, statistics, communication', 'troubleshooting, learning, communication', 'Materials knowledge; research experience; understanding of basic science', 'Coding; Electrochemistry knowledge', nan, '\"Communication; collaboration;team work;AI\")', 'Supply chain knowledge; Ability to work in a team; Coating knowledge', 'electrochemical testing; programming, data analysis', 'Controls(bms), material discovery (ml AI)', 'Machine learning, modeling, characterization testing', 'Most in demand is different from overlooked… underappreciated skills are data analytics; science communication; mentorship and community building', 'electrochemistry, manufacturing, data analyses', 'Process engineering, manufacturing-related, modelling', nan, 'BMS; Recycling; Data analysis', 'computational skills, battery modelling, data analysis', 'teamwork; communication; presentation', 'clear communication, cell-level design, BMS tuning', 'Critical thinking, creativity, science communication', '[Electrochemistry];[Software];[Hardware];', nan, 'Transparency in methods, communication with leaders, critical review'])\n",
      "('value_chain_in_demand', {'recycling': 14, 'battery_cell': 9, 'battery_pack': 6, 'software': 6, 'component': 5, 'infrastructure': 5, 'product_mobility': 4, 'product_electronics': 3, 'product_stationary': 2, 'other': 2, 'equipment': 1, 'mining': 1, 'refining': 0, 'consulting': 0})\n",
      "('value_chain_other_list', ['Waste collection and disassembly', 'health and safety diagnostics'])\n"
     ]
    }
   ],
   "source": [
    "res = analyst.summarize_census_skills_demand(filtered_list)\n",
    "[print(x) for x in res.items()];"
   ]
  }
 ],
 "metadata": {
  "kernelspec": {
   "display_name": "venv",
   "language": "python",
   "name": "python3"
  },
  "language_info": {
   "codemirror_mode": {
    "name": "ipython",
    "version": 3
   },
   "file_extension": ".py",
   "mimetype": "text/x-python",
   "name": "python",
   "nbconvert_exporter": "python",
   "pygments_lexer": "ipython3",
   "version": "3.13.1"
  }
 },
 "nbformat": 4,
 "nbformat_minor": 2
}
