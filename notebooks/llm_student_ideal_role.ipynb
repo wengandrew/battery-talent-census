{
 "cells": [
  {
   "cell_type": "markdown",
   "metadata": {},
   "source": [
    "# Process 'Student Ideal Role' Question Using a LLM\n",
    "\n",
    "A generic version of the pipeline to be re-used for different types of questions.\n",
    "\n",
    "Andrew Weng, 1/1/2025\n",
    "\n",
    "We are going to use a mixed LLM-Python approach to solve the problem of \"user text categorization.\"\n",
    "\n",
    "This problem can be decomposed into five steps:\n",
    "\n",
    "1. Pre-process (LLM1)\n",
    " - Each user provides up to three keywords as a string. These keywords need to be normalized and stored in a large list of individual keywords for the next stage.\n",
    "2. Define categories (LLM2)\n",
    " - With the list of keywords, find the best set of categories to describe the keywords\n",
    "3. Assign categories (LLM3)\n",
    " - For each keyword, assign it to a category. Be careful about how to handle exceptions (e.g., a keyword that doesn't seem to belog into any particular category.)\n",
    "4. Count occurences (Python)\n",
    " - Within each category, sum up the total number of keywords. \n",
    "5. Visualize the results (Python)"
   ]
  },
  {
   "cell_type": "code",
   "execution_count": 1,
   "metadata": {},
   "outputs": [],
   "source": [
    "import os\n",
    "import time\n",
    "\n",
    "current_folder = os.path.basename(os.getcwd())\n",
    "if current_folder == 'notebooks':\n",
    "    root_path = os.path.dirname(os.path.abspath(''))\n",
    "    os.chdir(root_path)\n",
    "\n",
    "from src.analyst import Analyst\n",
    "from src.plotter import Plotter\n",
    "from src.llm import LLM\n",
    "\n",
    "from collections import defaultdict\n",
    "\n",
    "import pickle\n",
    "from pprint import pprint\n",
    "\n",
    "from IPython import get_ipython\n",
    "# Automatically reload all modules every time a line of code is executed\n",
    "get_ipython().run_line_magic('load_ext', 'autoreload')\n",
    "get_ipython().run_line_magic('autoreload', '2')"
   ]
  },
  {
   "cell_type": "markdown",
   "metadata": {},
   "source": [
    "# Initialize our helper classes"
   ]
  },
  {
   "cell_type": "code",
   "execution_count": 2,
   "metadata": {},
   "outputs": [],
   "source": [
    "analyst = Analyst()\n",
    "analyst.load_data()\n",
    "analyst.build_respondents_list()\n",
    "\n",
    "plotter = Plotter()\n",
    "llm = LLM()"
   ]
  },
  {
   "cell_type": "markdown",
   "metadata": {},
   "source": [
    "# Fetch the relevant dataset to analyze"
   ]
  },
  {
   "cell_type": "code",
   "execution_count": 16,
   "metadata": {},
   "outputs": [],
   "source": [
    "question = dict()\n",
    "question['tag'] = 'student_ideal_title'\n",
    "question['categories'] = [\n",
    "    'Professor',\n",
    "    'Research Scientist',\n",
    "    'Battery Engineer',\n",
    "    'Battery Research Scientist',\n",
    "    'Cell Engineer',\n",
    "    'Materials Scientists/Engineer',\n",
    "    'Modeling / Computational Researcher',\n",
    "    'Thermal Engineer',\n",
    "    'Controls Engineers / BMS Engineer',\n",
    "    'R&D Engineer',\n",
    "    'Product Engineer',\n",
    "    'Data Engineer',\n",
    "    'Consultant',\n",
    "    'Management Role',\n",
    "    'Venture Capital',\n",
    "    'Calibrator',\n",
    "    'Battery Recycling Researcher']\n",
    "question['question'] = 'After you graduate, what would be your ideal job title?'\n",
    "question['data'] = analyst.summarize_student_ideal()['ideal_job_title_list']"
   ]
  },
  {
   "cell_type": "code",
   "execution_count": 17,
   "metadata": {},
   "outputs": [
    {
     "data": {
      "text/plain": [
       "['Assistant Professor',\n",
       " 'Battery Engineer',\n",
       " 'Battery R&D Engineer',\n",
       " 'R&D researcher',\n",
       " 'Research assistant',\n",
       " 'Research Scientist',\n",
       " 'Battery Engineer',\n",
       " 'Product development scientist',\n",
       " 'Venture Capital Principal',\n",
       " 'Professor',\n",
       " 'Battery Algorithm Engineer, Thermal Controls Engineer, BMS Engineer, Propulsion Controls Engineer',\n",
       " 'Battery Researcher',\n",
       " 'Calibrator',\n",
       " 'R&D Engineer',\n",
       " 'Cell engineer',\n",
       " 'Battery material engineer',\n",
       " 'Battery test Engineer',\n",
       " 'Product Engineer',\n",
       " 'Senior R&D Engineer',\n",
       " 'Research associate or research scientist',\n",
       " 'Scientist',\n",
       " 'Battery research scientist',\n",
       " 'Scientist in battery research',\n",
       " 'CTO',\n",
       " 'Cell engineer',\n",
       " 'Data Engineer',\n",
       " 'Battery Modeling Engineer',\n",
       " 'Electrification/thermal engineer',\n",
       " 'Research scientist',\n",
       " 'Scientist',\n",
       " 'Battery degradation analysis',\n",
       " 'Battery R&D Engineer',\n",
       " 'Scientist',\n",
       " 'Battery Scientist',\n",
       " 'Researcher in Battery Lab',\n",
       " 'Senior researcher',\n",
       " 'material scientist',\n",
       " 'Battery Engineer',\n",
       " 'Battery Modeling Engineer',\n",
       " 'Battery Research Engineer',\n",
       " 'Research Scientist',\n",
       " 'Entry level engineer',\n",
       " 'Battery Research Scientists',\n",
       " 'Research scientist',\n",
       " 'Battery R&D',\n",
       " 'Materials Development Engineer',\n",
       " 'R&D engineer',\n",
       " 'Assistant Professor',\n",
       " 'Principal scientist',\n",
       " 'Battery Research Scientist',\n",
       " 'Battery Material Scientist',\n",
       " 'Energy storage consultant',\n",
       " 'Cell Materials Engineer',\n",
       " 'Research Scientist',\n",
       " 'Sr. Battery Engineer (BMS or other)',\n",
       " 'early-stage engineer',\n",
       " 'Researcher',\n",
       " 'Computational Battery Researcher',\n",
       " 'Electrochemical modeling expert',\n",
       " 'Research and development engineer',\n",
       " 'Application Engineer',\n",
       " 'Cell Development Engineer',\n",
       " 'University Professor',\n",
       " 'Battery recycling researcher',\n",
       " 'battery research scientist',\n",
       " 'Researcher',\n",
       " 'Modeling engineer',\n",
       " 'R&D role',\n",
       " 'Postdoc or Researcher in a company',\n",
       " 'Staff Scientist/Engineer',\n",
       " 'Assistant Professor',\n",
       " 'Battery Management Systems Engineer',\n",
       " 'after geaduating i want to apply for a strong position in Ph.D',\n",
       " 'Research scientist',\n",
       " 'Battery scientist',\n",
       " 'Research Scientist',\n",
       " 'Consultant, Project Manager, Program Manager, Lecturer',\n",
       " 'Battery Scientist']"
      ]
     },
     "execution_count": 17,
     "metadata": {},
     "output_type": "execute_result"
    }
   ],
   "source": [
    "question['data']"
   ]
  },
  {
   "cell_type": "markdown",
   "metadata": {},
   "source": [
    "# Pre-process the user response\n",
    "\n",
    "Interpret the delimiters"
   ]
  },
  {
   "cell_type": "code",
   "execution_count": 18,
   "metadata": {},
   "outputs": [],
   "source": [
    "# If only a single keyword is expected then skip this step\n",
    "\n",
    "keyword_list = question['data']"
   ]
  },
  {
   "cell_type": "markdown",
   "metadata": {},
   "source": [
    "# Define categories"
   ]
  },
  {
   "cell_type": "code",
   "execution_count": 19,
   "metadata": {},
   "outputs": [
    {
     "name": "stdout",
     "output_type": "stream",
     "text": [
      "['Professor',\n",
      " 'Research Scientist',\n",
      " 'Battery Engineer',\n",
      " 'Battery Research Scientist',\n",
      " 'Cell Engineer',\n",
      " 'Materials Scientists/Engineer',\n",
      " 'Modeling / Computational Researcher',\n",
      " 'Thermal Engineer',\n",
      " 'Controls Engineers / BMS Engineer',\n",
      " 'R&D Engineer',\n",
      " 'Product Engineer',\n",
      " 'Data Engineer',\n",
      " 'Consultant',\n",
      " 'Management Role',\n",
      " 'Venture Capital',\n",
      " 'Calibrator',\n",
      " 'Battery Recycling Researcher']\n"
     ]
    }
   ],
   "source": [
    "if question['categories'] == []:\n",
    "\n",
    "    categories = llm.define_categories(question['question'],\n",
    "                                       keyword_list,\n",
    "                                       num_categories=50)\n",
    "\n",
    "    category_list = []\n",
    "    for category in categories['categories']:\n",
    "        category_list.append(category['name'])\n",
    "\n",
    "else:\n",
    "    category_list = question['categories']\n",
    "\n",
    "pprint(category_list)"
   ]
  },
  {
   "cell_type": "markdown",
   "metadata": {},
   "source": [
    "# Assign categories\n",
    "\n",
    "Process one keyword at a time!"
   ]
  },
  {
   "cell_type": "code",
   "execution_count": 20,
   "metadata": {},
   "outputs": [
    {
     "name": "stdout",
     "output_type": "stream",
     "text": [
      "Processing response: 'Assistant Professor' (1 of 78)...\n",
      "Processing response: 'Battery Engineer' (2 of 78)...\n",
      "Processing response: 'Battery R&D Engineer' (3 of 78)...\n",
      "Processing response: 'R&D researcher' (4 of 78)...\n",
      "Processing response: 'Research assistant' (5 of 78)...\n",
      "Processing response: 'Research Scientist' (6 of 78)...\n",
      "Processing response: 'Battery Engineer' (7 of 78)...\n",
      "Processing response: 'Product development scientist' (8 of 78)...\n",
      "Processing response: 'Venture Capital Principal' (9 of 78)...\n",
      "Processing response: 'Professor' (10 of 78)...\n",
      "Processing response: 'Battery Algorithm Engineer, Thermal Controls Engineer, BMS Engineer, Propulsion Controls Engineer' (11 of 78)...\n",
      "Processing response: 'Battery Researcher' (12 of 78)...\n",
      "Processing response: 'Calibrator' (13 of 78)...\n",
      "Processing response: 'R&D Engineer' (14 of 78)...\n",
      "Processing response: 'Cell engineer' (15 of 78)...\n",
      "Processing response: 'Battery material engineer' (16 of 78)...\n",
      "Processing response: 'Battery test Engineer' (17 of 78)...\n",
      "Processing response: 'Product Engineer' (18 of 78)...\n",
      "Processing response: 'Senior R&D Engineer' (19 of 78)...\n",
      "Processing response: 'Research associate or research scientist' (20 of 78)...\n",
      "Processing response: 'Scientist' (21 of 78)...\n",
      "Processing response: 'Battery research scientist' (22 of 78)...\n",
      "Processing response: 'Scientist in battery research' (23 of 78)...\n",
      "Processing response: 'CTO' (24 of 78)...\n",
      "Processing response: 'Cell engineer' (25 of 78)...\n",
      "Processing response: 'Data Engineer' (26 of 78)...\n",
      "Processing response: 'Battery Modeling Engineer' (27 of 78)...\n",
      "Processing response: 'Electrification/thermal engineer' (28 of 78)...\n",
      "Processing response: 'Research scientist' (29 of 78)...\n",
      "Processing response: 'Scientist' (30 of 78)...\n",
      "Processing response: 'Battery degradation analysis' (31 of 78)...\n",
      "Processing response: 'Battery R&D Engineer' (32 of 78)...\n",
      "Processing response: 'Scientist' (33 of 78)...\n",
      "Processing response: 'Battery Scientist' (34 of 78)...\n",
      "Processing response: 'Researcher in Battery Lab' (35 of 78)...\n",
      "Processing response: 'Senior researcher' (36 of 78)...\n",
      "Processing response: 'material scientist' (37 of 78)...\n",
      "Processing response: 'Battery Engineer' (38 of 78)...\n",
      "Processing response: 'Battery Modeling Engineer' (39 of 78)...\n",
      "Processing response: 'Battery Research Engineer' (40 of 78)...\n",
      "Processing response: 'Research Scientist' (41 of 78)...\n",
      "Processing response: 'Entry level engineer' (42 of 78)...\n",
      "Processing response: 'Battery Research Scientists' (43 of 78)...\n",
      "Processing response: 'Research scientist' (44 of 78)...\n",
      "Processing response: 'Battery R&D' (45 of 78)...\n",
      "Processing response: 'Materials Development Engineer' (46 of 78)...\n",
      "Processing response: 'R&D engineer' (47 of 78)...\n",
      "Processing response: 'Assistant Professor' (48 of 78)...\n",
      "Processing response: 'Principal scientist' (49 of 78)...\n",
      "Processing response: 'Battery Research Scientist' (50 of 78)...\n",
      "Processing response: 'Battery Material Scientist' (51 of 78)...\n",
      "Processing response: 'Energy storage consultant' (52 of 78)...\n",
      "Processing response: 'Cell Materials Engineer' (53 of 78)...\n",
      "Processing response: 'Research Scientist' (54 of 78)...\n",
      "Processing response: 'Sr. Battery Engineer (BMS or other)' (55 of 78)...\n",
      "Processing response: 'early-stage engineer' (56 of 78)...\n",
      "Processing response: 'Researcher' (57 of 78)...\n",
      "Processing response: 'Computational Battery Researcher' (58 of 78)...\n",
      "Processing response: 'Electrochemical modeling expert' (59 of 78)...\n",
      "Processing response: 'Research and development engineer' (60 of 78)...\n",
      "Processing response: 'Application Engineer' (61 of 78)...\n",
      "Processing response: 'Cell Development Engineer' (62 of 78)...\n",
      "Processing response: 'University Professor' (63 of 78)...\n",
      "Processing response: 'Battery recycling researcher' (64 of 78)...\n",
      "Processing response: 'battery research scientist' (65 of 78)...\n",
      "Processing response: 'Researcher' (66 of 78)...\n",
      "Processing response: 'Modeling engineer' (67 of 78)...\n",
      "Processing response: 'R&D role' (68 of 78)...\n",
      "Processing response: 'Postdoc or Researcher in a company' (69 of 78)...\n",
      "Processing response: 'Staff Scientist/Engineer' (70 of 78)...\n",
      "Processing response: 'Assistant Professor' (71 of 78)...\n",
      "Processing response: 'Battery Management Systems Engineer' (72 of 78)...\n",
      "Processing response: 'after geaduating i want to apply for a strong position in Ph.D' (73 of 78)...\n",
      "Processing response: 'Research scientist' (74 of 78)...\n",
      "Processing response: 'Battery scientist' (75 of 78)...\n",
      "Processing response: 'Research Scientist' (76 of 78)...\n",
      "Processing response: 'Consultant, Project Manager, Program Manager, Lecturer' (77 of 78)...\n",
      "Processing response: 'Battery Scientist' (78 of 78)...\n"
     ]
    }
   ],
   "source": [
    "content_list = []\n",
    "other_list = []\n",
    "fail_list = []\n",
    "\n",
    "for i, keyword in enumerate(keyword_list):\n",
    "\n",
    "    print(f\"Processing response: '{keyword}' ({i+1} of {len(keyword_list)})...\")\n",
    "\n",
    "    try:\n",
    "        output = llm.classify_user_response(category_list, keyword,\n",
    "                                            model='gpt-4o-mini')\n",
    "    except: # JSON output fails\n",
    "        fail_list.append(keyword)\n",
    "        continue\n",
    "\n",
    "    if output['result']['category'] in category_list:\n",
    "        content_list.append(output)\n",
    "    else:\n",
    "        other_list.append(output)"
   ]
  },
  {
   "cell_type": "code",
   "execution_count": 21,
   "metadata": {},
   "outputs": [
    {
     "name": "stdout",
     "output_type": "stream",
     "text": [
      "5\n"
     ]
    }
   ],
   "source": [
    "print(len(other_list))"
   ]
  },
  {
   "cell_type": "code",
   "execution_count": 22,
   "metadata": {},
   "outputs": [
    {
     "data": {
      "text/plain": [
       "[{'result': {'response_text': 'Research assistant', 'category': 'Other'}},\n",
       " {'result': {'response_text': 'Entry level engineer', 'category': 'Other'}},\n",
       " {'result': {'response_text': 'Application Engineer', 'category': 'Other'}},\n",
       " {'result': {'response_text': 'Staff Scientist/Engineer',\n",
       "   'category': 'Other'}},\n",
       " {'result': {'response_text': 'after graduating i want to apply for a strong position in Ph.D',\n",
       "   'category': 'Other'}}]"
      ]
     },
     "execution_count": 22,
     "metadata": {},
     "output_type": "execute_result"
    }
   ],
   "source": [
    "other_list"
   ]
  },
  {
   "cell_type": "code",
   "execution_count": 23,
   "metadata": {},
   "outputs": [
    {
     "name": "stdout",
     "output_type": "stream",
     "text": [
      "0\n"
     ]
    }
   ],
   "source": [
    "print(len(fail_list))"
   ]
  },
  {
   "cell_type": "markdown",
   "metadata": {},
   "source": [
    "## Assembly dictionary for plotting and a 'collection' dictionary\n",
    "\n",
    "The 'collection' is a reference for which keywords got sorted into which categories."
   ]
  },
  {
   "cell_type": "code",
   "execution_count": 24,
   "metadata": {},
   "outputs": [
    {
     "data": {
      "text/plain": [
       "defaultdict(int,\n",
       "            {'Professor': 5,\n",
       "             'Battery Engineer': 5,\n",
       "             'R&D Engineer': 10,\n",
       "             'Research Scientist': 16,\n",
       "             'Product Engineer': 2,\n",
       "             'Venture Capital': 1,\n",
       "             'Controls Engineers / BMS Engineer': 2,\n",
       "             'Battery Research Scientist': 12,\n",
       "             'Calibrator': 1,\n",
       "             'Cell Engineer': 3,\n",
       "             'Materials Scientists/Engineer': 5,\n",
       "             'Management Role': 1,\n",
       "             'Data Engineer': 1,\n",
       "             'Modeling / Computational Researcher': 5,\n",
       "             'Thermal Engineer': 1,\n",
       "             'Consultant': 2,\n",
       "             'Battery Recycling Researcher': 1,\n",
       "             '_tot_': 78})"
      ]
     },
     "execution_count": 24,
     "metadata": {},
     "output_type": "execute_result"
    }
   ],
   "source": [
    "\n",
    "collection = defaultdict(list)\n",
    "counter    = defaultdict(int)\n",
    "\n",
    "for content in content_list:\n",
    "\n",
    "    category = content['result']['category']\n",
    "    response = content['result']['response_text']\n",
    "    counter[category] += 1\n",
    "    collection[category].append(response)\n",
    "\n",
    "counter['_tot_'] = len(question['data'])\n",
    "counter"
   ]
  },
  {
   "cell_type": "code",
   "execution_count": 25,
   "metadata": {},
   "outputs": [
    {
     "data": {
      "text/plain": [
       "defaultdict(list,\n",
       "            {'Professor': ['Assistant Professor',\n",
       "              'Professor',\n",
       "              'Assistant Professor',\n",
       "              'University Professor',\n",
       "              'Assistant Professor'],\n",
       "             'Battery Engineer': ['Battery Engineer',\n",
       "              'Battery Engineer',\n",
       "              'Battery test Engineer',\n",
       "              'Battery Engineer',\n",
       "              'Sr. Battery Engineer (BMS or other)'],\n",
       "             'R&D Engineer': ['Battery R&D Engineer',\n",
       "              'R&D researcher',\n",
       "              'R&D Engineer',\n",
       "              'Senior R&D Engineer',\n",
       "              'Battery R&D Engineer',\n",
       "              'Battery R&D',\n",
       "              'R&D engineer',\n",
       "              'early-stage engineer',\n",
       "              'Research and development engineer',\n",
       "              'R&D role'],\n",
       "             'Research Scientist': ['Research Scientist',\n",
       "              'Research associate or research scientist',\n",
       "              'Scientist',\n",
       "              'Research scientist',\n",
       "              'Scientist',\n",
       "              'Scientist',\n",
       "              'Senior researcher',\n",
       "              'Research Scientist',\n",
       "              'Research scientist',\n",
       "              'Principal scientist',\n",
       "              'Research Scientist',\n",
       "              'Researcher',\n",
       "              'Researcher',\n",
       "              'Postdoc or Researcher in a company',\n",
       "              'Research scientist',\n",
       "              'Research Scientist'],\n",
       "             'Product Engineer': ['Product development scientist',\n",
       "              'Product Engineer'],\n",
       "             'Venture Capital': ['Venture Capital Principal'],\n",
       "             'Controls Engineers / BMS Engineer': ['Battery Algorithm Engineer, Thermal Controls Engineer, BMS Engineer, Propulsion Controls Engineer',\n",
       "              'Battery Management Systems Engineer'],\n",
       "             'Battery Research Scientist': ['Battery Researcher',\n",
       "              'Battery research scientist',\n",
       "              'Scientist in battery research',\n",
       "              'Battery degradation analysis',\n",
       "              'Battery Scientist',\n",
       "              'Researcher in Battery Lab',\n",
       "              'Battery Research Engineer',\n",
       "              'Battery Research Scientists',\n",
       "              'Battery Research Scientist',\n",
       "              'battery research scientist',\n",
       "              'Battery scientist',\n",
       "              'Battery Scientist'],\n",
       "             'Calibrator': ['Calibrator'],\n",
       "             'Cell Engineer': ['Cell engineer',\n",
       "              'Cell engineer',\n",
       "              'Cell Development Engineer'],\n",
       "             'Materials Scientists/Engineer': ['Battery material engineer',\n",
       "              'material scientist',\n",
       "              'Materials Development Engineer',\n",
       "              'Battery Material Scientist',\n",
       "              'Cell Materials Engineer'],\n",
       "             'Management Role': ['CTO'],\n",
       "             'Data Engineer': ['Data Engineer'],\n",
       "             'Modeling / Computational Researcher': ['Battery Modeling Engineer',\n",
       "              'Battery Modeling Engineer',\n",
       "              'Computational Battery Researcher',\n",
       "              'Electrochemical modeling expert',\n",
       "              'Modeling engineer'],\n",
       "             'Thermal Engineer': ['Electrification/thermal engineer'],\n",
       "             'Consultant': ['Energy storage consultant',\n",
       "              'Consultant, Project Manager, Program Manager, Lecturer'],\n",
       "             'Battery Recycling Researcher': ['Battery recycling researcher']})"
      ]
     },
     "execution_count": 25,
     "metadata": {},
     "output_type": "execute_result"
    }
   ],
   "source": [
    "collection"
   ]
  },
  {
   "cell_type": "markdown",
   "metadata": {},
   "source": [
    "# Visualize the results"
   ]
  },
  {
   "cell_type": "code",
   "execution_count": 26,
   "metadata": {},
   "outputs": [
    {
     "data": {
      "image/png": "[encoded data removed]",
      "text/plain": [
       "<Figure size 800x575 with 1 Axes>"
      ]
     },
     "metadata": {},
     "output_type": "display_data"
    }
   ],
   "source": [
    "plotter.make_bar_plot_from_dict(counter,\n",
    "                                title=question['question'],\n",
    "                                sorted=True,\n",
    "                                annotation=f'LLM3, {time.strftime(\"%Y/%m/%d %H:%M:%S\")}',\n",
    "                                num_elements=100,\n",
    "                                saveas=f'{question['tag']}_{time.strftime(\"%Y%m%d_%H%M%S\")}.png'\n",
    ")"
   ]
  }
 ],
 "metadata": {
  "kernelspec": {
   "display_name": "venv",
   "language": "python",
   "name": "python3"
  },
  "language_info": {
   "codemirror_mode": {
    "name": "ipython",
    "version": 3
   },
   "file_extension": ".py",
   "mimetype": "text/x-python",
   "name": "python",
   "nbconvert_exporter": "python",
   "pygments_lexer": "ipython3",
   "version": "3.13.1"
  }
 },
 "nbformat": 4,
 "nbformat_minor": 2
}
