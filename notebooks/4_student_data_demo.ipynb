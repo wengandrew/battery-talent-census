{
 "cells": [
  {
   "cell_type": "markdown",
   "metadata": {},
   "source": [
    "# 4. Summarize and visualize info from student questions\n",
    "\n",
    "December 22, 2024\n",
    "\n",
    "This notebook summarizes and visualizes the student responses (including internship, if applicable).\n"
   ]
  },
  {
   "cell_type": "markdown",
   "metadata": {},
   "source": [
    "## Setup\n",
    "\n",
    "To learn more, see notebook #1\n"
   ]
  },
  {
   "cell_type": "code",
   "execution_count": 1,
   "metadata": {},
   "outputs": [],
   "source": [
    "import os\n",
    "\n",
    "# Set working directory to root of project\n",
    "current_folder = os.path.basename(os.getcwd())\n",
    "if current_folder == 'notebooks':\n",
    "    root_path = os.path.dirname(os.path.abspath(''))\n",
    "    os.chdir(root_path)\n",
    "\n",
    "from pprint import pprint\n",
    "from src.plotter import Plotter\n",
    "from src.respondent import Respondent\n",
    "from src.analyst import Analyst\n",
    "import src.utils as utils\n",
    "\n",
    "from IPython import get_ipython\n",
    "\n",
    "# Automatically reload all modules every time a line of code is executed\n",
    "get_ipython().run_line_magic('load_ext', 'autoreload')\n",
    "get_ipython().run_line_magic('autoreload', '2')\n"
   ]
  },
  {
   "cell_type": "code",
   "execution_count": null,
   "metadata": {},
   "outputs": [],
   "source": [
    "analyst = Analyst()\n",
    "analyst.load_data()\n",
    "analyst.build_respondents_list()"
   ]
  },
  {
   "cell_type": "code",
   "execution_count": null,
   "metadata": {},
   "outputs": [],
   "source": [
    "# Work in progress for analysing student data\n",
    "resp_students = analyst.filter_respondents_on(is_student=True,state='MI')\n",
    "mydict = analyst.summarize_census_sentiment(resp_students)\n",
    "mydict['values'].shape\n",
    "mydict = analyst.summarize_census_backgrounds(resp_students)\n",
    "mydict\n",
    "resp_worker = analyst.filter_respondents_on(is_working=True)\n",
    "analyst.summarize_company_retention()\n",
    "\n",
    "# Initialize plotter\n",
    "plotter = Plotter()"
   ]
  }
 ],
 "metadata": {
  "kernelspec": {
   "display_name": "census-env",
   "language": "python",
   "name": "python3"
  },
  "language_info": {
   "codemirror_mode": {
    "name": "ipython",
    "version": 3
   },
   "file_extension": ".py",
   "mimetype": "text/x-python",
   "name": "python",
   "nbconvert_exporter": "python",
   "pygments_lexer": "ipython3",
   "version": "3.13.1"
  }
 },
 "nbformat": 4,
 "nbformat_minor": 2
}
